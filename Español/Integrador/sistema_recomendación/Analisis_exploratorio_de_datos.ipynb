{
 "cells": [
  {
   "cell_type": "code",
   "execution_count": 1,
   "metadata": {},
   "outputs": [],
   "source": [
    "#Importamos librerias\n",
    "import pandas as pd\n",
    "import numpy as np\n",
    "import matplotlib.pyplot as plt\n",
    "import seaborn as sns\n",
    "sns.set()"
   ]
  },
  {
   "cell_type": "code",
   "execution_count": 3,
   "metadata": {},
   "outputs": [
    {
     "data": {
      "text/plain": [
       "array(['Comida_Oriental', 'Comida_Rapida', 'Saludable-Vegano', 'Otros',\n",
       "       'Mariscos', 'Comida_Latinoamericana', 'Cafeteria',\n",
       "       'Comida_Italiana', 'Comida_Europea', 'Comida_Americana',\n",
       "       'Reposteria-Pasteleria-Dulceria', 'Bar'], dtype=object)"
      ]
     },
     "execution_count": 3,
     "metadata": {},
     "output_type": "execute_result"
    }
   ],
   "source": [
    "#Importamos el dataset de restaurant final\n",
    "restaurants = pd.read_parquet('https://storage.googleapis.com/restaurants_datalake/restaurants.parquet')\n",
    "restaurants['Tipo'].unique()"
   ]
  },
  {
   "cell_type": "code",
   "execution_count": 45,
   "metadata": {},
   "outputs": [],
   "source": [
    "#Importamos todo el dataset de reviews completo\n",
    "for t in restaurants['Tipo'].unique():\n",
    "    if t == 'Comida_Oriental':\n",
    "        reviews = pd.read_parquet('https://storage.googleapis.com/restaurants_datalake/'+t+'.parquet')\n",
    "    else:\n",
    "        reviews = pd.concat([reviews,pd.read_parquet('https://storage.googleapis.com/restaurants_datalake/'+t+'.parquet')],\n",
    "                            ignore_index=True)"
   ]
  },
  {
   "cell_type": "code",
   "execution_count": 6,
   "metadata": {},
   "outputs": [
    {
     "name": "stdout",
     "output_type": "stream",
     "text": [
      "<class 'pandas.core.frame.DataFrame'>\n",
      "RangeIndex: 16007867 entries, 0 to 16007866\n",
      "Data columns (total 5 columns):\n",
      " #   Column         Dtype \n",
      "---  ------         ----- \n",
      " 0   Cod_Usuario    int32 \n",
      " 1   Id_Restaurant  object\n",
      " 2   Rating         int64 \n",
      " 3   Reseña         object\n",
      " 4   Timestamp      Int64 \n",
      "dtypes: Int64(1), int32(1), int64(1), object(2)\n",
      "memory usage: 564.9+ MB\n"
     ]
    }
   ],
   "source": [
    "reviews.info()"
   ]
  },
  {
   "attachments": {},
   "cell_type": "markdown",
   "metadata": {},
   "source": [
    "Para realizar el modelo de Machine Learning no nos interesan ni las reseñas (el texto), ni el momento en el que se hizo la misma (Timestamp). Vamos a descartar estas columnas para trabajar con un dataframe mas liviano."
   ]
  },
  {
   "cell_type": "code",
   "execution_count": 28,
   "metadata": {},
   "outputs": [
    {
     "data": {
      "text/html": [
       "<div>\n",
       "<style scoped>\n",
       "    .dataframe tbody tr th:only-of-type {\n",
       "        vertical-align: middle;\n",
       "    }\n",
       "\n",
       "    .dataframe tbody tr th {\n",
       "        vertical-align: top;\n",
       "    }\n",
       "\n",
       "    .dataframe thead th {\n",
       "        text-align: right;\n",
       "    }\n",
       "</style>\n",
       "<table border=\"1\" class=\"dataframe\">\n",
       "  <thead>\n",
       "    <tr style=\"text-align: right;\">\n",
       "      <th></th>\n",
       "      <th>Cod_Usuario</th>\n",
       "      <th>Id_Restaurant</th>\n",
       "      <th>Rating</th>\n",
       "    </tr>\n",
       "  </thead>\n",
       "  <tbody>\n",
       "    <tr>\n",
       "      <th>0</th>\n",
       "      <td>2</td>\n",
       "      <td>0x888bb1c0af00eaad:0x94a9966c09595969</td>\n",
       "      <td>4</td>\n",
       "    </tr>\n",
       "    <tr>\n",
       "      <th>1</th>\n",
       "      <td>2</td>\n",
       "      <td>0x88e77aead75ea8ef:0xfc53c92360a480a3</td>\n",
       "      <td>5</td>\n",
       "    </tr>\n",
       "    <tr>\n",
       "      <th>2</th>\n",
       "      <td>7</td>\n",
       "      <td>0x8889160e5690be27:0x462cfd5536a14bf3</td>\n",
       "      <td>5</td>\n",
       "    </tr>\n",
       "    <tr>\n",
       "      <th>3</th>\n",
       "      <td>10</td>\n",
       "      <td>0x88807069ced870b9:0x2c7e57ea89757b43</td>\n",
       "      <td>5</td>\n",
       "    </tr>\n",
       "    <tr>\n",
       "      <th>4</th>\n",
       "      <td>49</td>\n",
       "      <td>0x8889160e5690be27:0x462cfd5536a14bf3</td>\n",
       "      <td>5</td>\n",
       "    </tr>\n",
       "  </tbody>\n",
       "</table>\n",
       "</div>"
      ],
      "text/plain": [
       "   Cod_Usuario                          Id_Restaurant  Rating\n",
       "0            2  0x888bb1c0af00eaad:0x94a9966c09595969       4\n",
       "1            2  0x88e77aead75ea8ef:0xfc53c92360a480a3       5\n",
       "2            7  0x8889160e5690be27:0x462cfd5536a14bf3       5\n",
       "3           10  0x88807069ced870b9:0x2c7e57ea89757b43       5\n",
       "4           49  0x8889160e5690be27:0x462cfd5536a14bf3       5"
      ]
     },
     "execution_count": 28,
     "metadata": {},
     "output_type": "execute_result"
    }
   ],
   "source": [
    "reviews_ml = reviews.drop(columns=['Reseña','Timestamp'])\n",
    "reviews_ml.head()"
   ]
  },
  {
   "attachments": {},
   "cell_type": "markdown",
   "metadata": {},
   "source": [
    "Vamos a observar las características de los distintos campos"
   ]
  },
  {
   "cell_type": "code",
   "execution_count": 29,
   "metadata": {},
   "outputs": [
    {
     "data": {
      "text/plain": [
       "<AxesSubplot: xlabel='Rating', ylabel='count'>"
      ]
     },
     "execution_count": 29,
     "metadata": {},
     "output_type": "execute_result"
    },
    {
     "data": {
      "image/png": "[encoded data removed]",
      "text/plain": [
       "<Figure size 640x480 with 1 Axes>"
      ]
     },
     "metadata": {},
     "output_type": "display_data"
    }
   ],
   "source": [
    "#Vamos a observar como están distribuidas las calificaciones\n",
    "sns.countplot(data=reviews_ml,x='Rating')"
   ]
  },
  {
   "attachments": {},
   "cell_type": "markdown",
   "metadata": {},
   "source": [
    "Puede verse que el dataset esta claramente desbalanceado. La suma de las cantidades de todas las otras calificiones (de 1 a 4) no llega a la cantidad de calificación 5. Mientras que la suma de las calificaciones 4 y 5 es mas del triple que de las calificaciones mas bajas (1 a 3). Antes de realizar alguna acción correctiva vamos a seguir explorando."
   ]
  },
  {
   "cell_type": "code",
   "execution_count": 30,
   "metadata": {},
   "outputs": [
    {
     "data": {
      "text/html": [
       "<div>\n",
       "<style scoped>\n",
       "    .dataframe tbody tr th:only-of-type {\n",
       "        vertical-align: middle;\n",
       "    }\n",
       "\n",
       "    .dataframe tbody tr th {\n",
       "        vertical-align: top;\n",
       "    }\n",
       "\n",
       "    .dataframe thead th {\n",
       "        text-align: right;\n",
       "    }\n",
       "</style>\n",
       "<table border=\"1\" class=\"dataframe\">\n",
       "  <thead>\n",
       "    <tr style=\"text-align: right;\">\n",
       "      <th></th>\n",
       "      <th>Cod_Usuario</th>\n",
       "      <th>Cantidad</th>\n",
       "    </tr>\n",
       "  </thead>\n",
       "  <tbody>\n",
       "    <tr>\n",
       "      <th>0</th>\n",
       "      <td>5593234</td>\n",
       "      <td>1704</td>\n",
       "    </tr>\n",
       "    <tr>\n",
       "      <th>1</th>\n",
       "      <td>5593039</td>\n",
       "      <td>1296</td>\n",
       "    </tr>\n",
       "    <tr>\n",
       "      <th>2</th>\n",
       "      <td>5816479</td>\n",
       "      <td>1144</td>\n",
       "    </tr>\n",
       "    <tr>\n",
       "      <th>3</th>\n",
       "      <td>5592928</td>\n",
       "      <td>1104</td>\n",
       "    </tr>\n",
       "    <tr>\n",
       "      <th>4</th>\n",
       "      <td>5597225</td>\n",
       "      <td>1095</td>\n",
       "    </tr>\n",
       "    <tr>\n",
       "      <th>...</th>\n",
       "      <td>...</td>\n",
       "      <td>...</td>\n",
       "    </tr>\n",
       "    <tr>\n",
       "      <th>7038632</th>\n",
       "      <td>3084837</td>\n",
       "      <td>1</td>\n",
       "    </tr>\n",
       "    <tr>\n",
       "      <th>7038633</th>\n",
       "      <td>3084836</td>\n",
       "      <td>1</td>\n",
       "    </tr>\n",
       "    <tr>\n",
       "      <th>7038634</th>\n",
       "      <td>3084835</td>\n",
       "      <td>1</td>\n",
       "    </tr>\n",
       "    <tr>\n",
       "      <th>7038635</th>\n",
       "      <td>3084834</td>\n",
       "      <td>1</td>\n",
       "    </tr>\n",
       "    <tr>\n",
       "      <th>7038636</th>\n",
       "      <td>7038636</td>\n",
       "      <td>1</td>\n",
       "    </tr>\n",
       "  </tbody>\n",
       "</table>\n",
       "<p>7038637 rows × 2 columns</p>\n",
       "</div>"
      ],
      "text/plain": [
       "         Cod_Usuario  Cantidad\n",
       "0            5593234      1704\n",
       "1            5593039      1296\n",
       "2            5816479      1144\n",
       "3            5592928      1104\n",
       "4            5597225      1095\n",
       "...              ...       ...\n",
       "7038632      3084837         1\n",
       "7038633      3084836         1\n",
       "7038634      3084835         1\n",
       "7038635      3084834         1\n",
       "7038636      7038636         1\n",
       "\n",
       "[7038637 rows x 2 columns]"
      ]
     },
     "execution_count": 30,
     "metadata": {},
     "output_type": "execute_result"
    }
   ],
   "source": [
    "#Agrupamos las reviews por usuario y contamos cuantas veces voto cada uno\n",
    "usuarios_agrupados = reviews_ml.groupby(by='Cod_Usuario').count().drop(\n",
    "                                                columns='Id_Restaurant').rename(\n",
    "                                                    columns={'Rating':'Cantidad'}).sort_values(\n",
    "                                                                    by='Cantidad',ascending=False).reset_index()\n",
    "usuarios_agrupados"
   ]
  },
  {
   "cell_type": "code",
   "execution_count": 31,
   "metadata": {},
   "outputs": [
    {
     "data": {
      "text/plain": [
       "<AxesSubplot: >"
      ]
     },
     "execution_count": 31,
     "metadata": {},
     "output_type": "execute_result"
    },
    {
     "data": {
      "image/png": "[encoded data removed]",
      "text/plain": [
       "<Figure size 640x480 with 1 Axes>"
      ]
     },
     "metadata": {},
     "output_type": "display_data"
    }
   ],
   "source": [
    "#Visualizamos estas cantidades\n",
    "sns.boxplot(data=usuarios_agrupados['Cantidad'])"
   ]
  },
  {
   "cell_type": "code",
   "execution_count": 32,
   "metadata": {},
   "outputs": [
    {
     "data": {
      "text/plain": [
       "(0.0, 5.0)"
      ]
     },
     "execution_count": 32,
     "metadata": {},
     "output_type": "execute_result"
    },
    {
     "data": {
      "image/png": "[encoded data removed]",
      "text/plain": [
       "<Figure size 640x480 with 1 Axes>"
      ]
     },
     "metadata": {},
     "output_type": "display_data"
    }
   ],
   "source": [
    "#Nos acercamos a la media\n",
    "sns.boxplot(data=usuarios_agrupados['Cantidad'])\n",
    "plt.ylim(0,5)"
   ]
  },
  {
   "cell_type": "code",
   "execution_count": 33,
   "metadata": {},
   "outputs": [
    {
     "data": {
      "text/plain": [
       "(3872331, 2)"
      ]
     },
     "execution_count": 33,
     "metadata": {},
     "output_type": "execute_result"
    }
   ],
   "source": [
    "usuarios_agrupados[usuarios_agrupados['Cantidad']==1].shape"
   ]
  },
  {
   "attachments": {},
   "cell_type": "markdown",
   "metadata": {},
   "source": [
    "Vemos que son demasiados los usuarios (casi 4 millones) que nos dan demasiada poca información ya que votaron una única vez. Igual que con el desbalanceo vamos a esperar a terminar de analizar el resto del dataset antes de hacer alguna acción correctiva."
   ]
  },
  {
   "cell_type": "code",
   "execution_count": 34,
   "metadata": {},
   "outputs": [
    {
     "data": {
      "text/html": [
       "<div>\n",
       "<style scoped>\n",
       "    .dataframe tbody tr th:only-of-type {\n",
       "        vertical-align: middle;\n",
       "    }\n",
       "\n",
       "    .dataframe tbody tr th {\n",
       "        vertical-align: top;\n",
       "    }\n",
       "\n",
       "    .dataframe thead th {\n",
       "        text-align: right;\n",
       "    }\n",
       "</style>\n",
       "<table border=\"1\" class=\"dataframe\">\n",
       "  <thead>\n",
       "    <tr style=\"text-align: right;\">\n",
       "      <th></th>\n",
       "      <th>Id_Restaurant</th>\n",
       "      <th>Cantidad</th>\n",
       "    </tr>\n",
       "  </thead>\n",
       "  <tbody>\n",
       "    <tr>\n",
       "      <th>0</th>\n",
       "      <td>0x8620a60c5d5e55d3:0x73c7b3c06a67a923</td>\n",
       "      <td>9057</td>\n",
       "    </tr>\n",
       "    <tr>\n",
       "      <th>1</th>\n",
       "      <td>ac1AeYqs8Z4_e2X5M3if2A</td>\n",
       "      <td>7508</td>\n",
       "    </tr>\n",
       "    <tr>\n",
       "      <th>2</th>\n",
       "      <td>0x40771e59f0513085:0x513683476a2005d8</td>\n",
       "      <td>7148</td>\n",
       "    </tr>\n",
       "    <tr>\n",
       "      <th>3</th>\n",
       "      <td>GXFMD0Z4jEVZBCsbPf4CTQ</td>\n",
       "      <td>6149</td>\n",
       "    </tr>\n",
       "    <tr>\n",
       "      <th>4</th>\n",
       "      <td>ytynqOUb3hjKeJfRj5Tshw</td>\n",
       "      <td>5770</td>\n",
       "    </tr>\n",
       "    <tr>\n",
       "      <th>...</th>\n",
       "      <td>...</td>\n",
       "      <td>...</td>\n",
       "    </tr>\n",
       "    <tr>\n",
       "      <th>171414</th>\n",
       "      <td>4QdZHOqo7OI63SG6JnLdpg</td>\n",
       "      <td>5</td>\n",
       "    </tr>\n",
       "    <tr>\n",
       "      <th>171415</th>\n",
       "      <td>4Qt-KtFm3AJOJnrk61_7JQ</td>\n",
       "      <td>5</td>\n",
       "    </tr>\n",
       "    <tr>\n",
       "      <th>171416</th>\n",
       "      <td>i0b_xiKIbExKtF3vqo1Bzw</td>\n",
       "      <td>5</td>\n",
       "    </tr>\n",
       "    <tr>\n",
       "      <th>171417</th>\n",
       "      <td>bfVvm2RsdDW8AReCM9ii8A</td>\n",
       "      <td>5</td>\n",
       "    </tr>\n",
       "    <tr>\n",
       "      <th>171418</th>\n",
       "      <td>0x8624bd0f99b03b4f:0xa87224fe4f15f6a7</td>\n",
       "      <td>4</td>\n",
       "    </tr>\n",
       "  </tbody>\n",
       "</table>\n",
       "<p>171419 rows × 2 columns</p>\n",
       "</div>"
      ],
      "text/plain": [
       "                                Id_Restaurant  Cantidad\n",
       "0       0x8620a60c5d5e55d3:0x73c7b3c06a67a923      9057\n",
       "1                      ac1AeYqs8Z4_e2X5M3if2A      7508\n",
       "2       0x40771e59f0513085:0x513683476a2005d8      7148\n",
       "3                      GXFMD0Z4jEVZBCsbPf4CTQ      6149\n",
       "4                      ytynqOUb3hjKeJfRj5Tshw      5770\n",
       "...                                       ...       ...\n",
       "171414                 4QdZHOqo7OI63SG6JnLdpg         5\n",
       "171415                 4Qt-KtFm3AJOJnrk61_7JQ         5\n",
       "171416                 i0b_xiKIbExKtF3vqo1Bzw         5\n",
       "171417                 bfVvm2RsdDW8AReCM9ii8A         5\n",
       "171418  0x8624bd0f99b03b4f:0xa87224fe4f15f6a7         4\n",
       "\n",
       "[171419 rows x 2 columns]"
      ]
     },
     "execution_count": 34,
     "metadata": {},
     "output_type": "execute_result"
    }
   ],
   "source": [
    "#Agrupamos las reviews por restaurant y contamos cuantos votos tiene cada uno\n",
    "restaurants_agrupados = reviews_ml.groupby(by='Id_Restaurant').count().drop(\n",
    "                                                columns='Cod_Usuario').rename(\n",
    "                                                    columns={'Rating':'Cantidad'}).sort_values(\n",
    "                                                                    by='Cantidad',ascending=False).reset_index()\n",
    "restaurants_agrupados"
   ]
  },
  {
   "cell_type": "code",
   "execution_count": 35,
   "metadata": {},
   "outputs": [
    {
     "data": {
      "text/plain": [
       "<AxesSubplot: >"
      ]
     },
     "execution_count": 35,
     "metadata": {},
     "output_type": "execute_result"
    },
    {
     "data": {
      "image/png": "[encoded data removed]",
      "text/plain": [
       "<Figure size 640x480 with 1 Axes>"
      ]
     },
     "metadata": {},
     "output_type": "display_data"
    }
   ],
   "source": [
    "#Visualizamos estas cantidades\n",
    "sns.boxplot(data=restaurants_agrupados)"
   ]
  },
  {
   "cell_type": "code",
   "execution_count": 23,
   "metadata": {},
   "outputs": [
    {
     "data": {
      "text/plain": [
       "(0.0, 200.0)"
      ]
     },
     "execution_count": 23,
     "metadata": {},
     "output_type": "execute_result"
    },
    {
     "data": {
      "image/png": "[encoded data removed]",
      "text/plain": [
       "<Figure size 640x480 with 1 Axes>"
      ]
     },
     "metadata": {},
     "output_type": "display_data"
    }
   ],
   "source": [
    "#Nos acercamos\n",
    "sns.boxplot(data=restaurants_agrupados)\n",
    "plt.ylim(0,200)"
   ]
  },
  {
   "attachments": {},
   "cell_type": "markdown",
   "metadata": {},
   "source": [
    "Se ven grandes outliers con restaurants que recibieron una gran cantidad de reseñas y una gran cantidad que recibieron 4 o 5 reseñas. Al no estar comparando items si no que vamos a comparar usuarios y vamos a hacer perfiles de estos, el hecho de que algún restaurant tenga muchas reseñas o pocas no interfiere con el aprendizaje.\n",
    "\n",
    "Naturalmente, los restaurants con muchas reseñas van a ser más veces recomendados que los otros pero esto no es un problema si no una salida natural a este problema.\n",
    "\n",
    "Por lo tanto, los restaurants vamos a dejarlos así. Sin embargo, para los usuarios que nos dieron tan poca información es dificil armarle un perfil y esto traerá grandes errores en el modelo de ML. Debemos eliminarlos para evitarlos."
   ]
  },
  {
   "cell_type": "code",
   "execution_count": 36,
   "metadata": {},
   "outputs": [
    {
     "name": "stdout",
     "output_type": "stream",
     "text": [
      "Usuarios con menos de 5 votos:  6449015\n",
      "Porcentaje del total:  91.62 %\n"
     ]
    }
   ],
   "source": [
    "#Vemos cuantos usuarios votaron menos de 5 veces\n",
    "print('Usuarios con menos de 5 votos: ',usuarios_agrupados[usuarios_agrupados['Cantidad']<5].shape[0])\n",
    "print('Porcentaje del total: ',\n",
    "      round(100*usuarios_agrupados[usuarios_agrupados['Cantidad']<5].shape[0]/usuarios_agrupados.shape[0],2),'%')"
   ]
  },
  {
   "attachments": {},
   "cell_type": "markdown",
   "metadata": {},
   "source": [
    "Si establecemos un minimo de 5 votos para poder armar un perfil de usuario como para recomendar debemos descartar más del 90% de los usuarios. Esto no quiere decir que se descartará más del 90% del dataset pero si se va a descartar al menos la mitad del mismo. Todo esto se realiza en pos de un buen funcionamiento del modelo."
   ]
  },
  {
   "cell_type": "code",
   "execution_count": 27,
   "metadata": {},
   "outputs": [
    {
     "data": {
      "text/html": [
       "<div>\n",
       "<style scoped>\n",
       "    .dataframe tbody tr th:only-of-type {\n",
       "        vertical-align: middle;\n",
       "    }\n",
       "\n",
       "    .dataframe tbody tr th {\n",
       "        vertical-align: top;\n",
       "    }\n",
       "\n",
       "    .dataframe thead th {\n",
       "        text-align: right;\n",
       "    }\n",
       "</style>\n",
       "<table border=\"1\" class=\"dataframe\">\n",
       "  <thead>\n",
       "    <tr style=\"text-align: right;\">\n",
       "      <th></th>\n",
       "      <th>Cod_Usuario</th>\n",
       "      <th>Id_Restaurant</th>\n",
       "      <th>Rating</th>\n",
       "    </tr>\n",
       "  </thead>\n",
       "  <tbody>\n",
       "    <tr>\n",
       "      <th>0</th>\n",
       "      <td>2</td>\n",
       "      <td>0x888bb1c0af00eaad:0x94a9966c09595969</td>\n",
       "      <td>4</td>\n",
       "    </tr>\n",
       "    <tr>\n",
       "      <th>1</th>\n",
       "      <td>2</td>\n",
       "      <td>0x88e77aead75ea8ef:0xfc53c92360a480a3</td>\n",
       "      <td>5</td>\n",
       "    </tr>\n",
       "    <tr>\n",
       "      <th>2</th>\n",
       "      <td>10</td>\n",
       "      <td>0x88807069ced870b9:0x2c7e57ea89757b43</td>\n",
       "      <td>5</td>\n",
       "    </tr>\n",
       "    <tr>\n",
       "      <th>3</th>\n",
       "      <td>49</td>\n",
       "      <td>0x8889160e5690be27:0x462cfd5536a14bf3</td>\n",
       "      <td>5</td>\n",
       "    </tr>\n",
       "    <tr>\n",
       "      <th>4</th>\n",
       "      <td>52</td>\n",
       "      <td>0x888cedd24b6af451:0x9958558c300844df</td>\n",
       "      <td>1</td>\n",
       "    </tr>\n",
       "    <tr>\n",
       "      <th>...</th>\n",
       "      <td>...</td>\n",
       "      <td>...</td>\n",
       "      <td>...</td>\n",
       "    </tr>\n",
       "    <tr>\n",
       "      <th>5598867</th>\n",
       "      <td>6822302</td>\n",
       "      <td>hLurbkHlY3joRaZybr5X3w</td>\n",
       "      <td>5</td>\n",
       "    </tr>\n",
       "    <tr>\n",
       "      <th>5598868</th>\n",
       "      <td>6835843</td>\n",
       "      <td>KscVqYYG7ziAroZhfNb0Ng</td>\n",
       "      <td>1</td>\n",
       "    </tr>\n",
       "    <tr>\n",
       "      <th>5598869</th>\n",
       "      <td>6843421</td>\n",
       "      <td>VX6HrL0ZryetyzHyNlxhzg</td>\n",
       "      <td>3</td>\n",
       "    </tr>\n",
       "    <tr>\n",
       "      <th>5598870</th>\n",
       "      <td>6844786</td>\n",
       "      <td>0x88c2f9a6f9f5abf7:0x3d73d77351f0b233</td>\n",
       "      <td>5</td>\n",
       "    </tr>\n",
       "    <tr>\n",
       "      <th>5598871</th>\n",
       "      <td>6863120</td>\n",
       "      <td>cwERkpnPopn589ugym6ucg</td>\n",
       "      <td>5</td>\n",
       "    </tr>\n",
       "  </tbody>\n",
       "</table>\n",
       "<p>5598872 rows × 3 columns</p>\n",
       "</div>"
      ],
      "text/plain": [
       "         Cod_Usuario                          Id_Restaurant  Rating\n",
       "0                  2  0x888bb1c0af00eaad:0x94a9966c09595969       4\n",
       "1                  2  0x88e77aead75ea8ef:0xfc53c92360a480a3       5\n",
       "2                 10  0x88807069ced870b9:0x2c7e57ea89757b43       5\n",
       "3                 49  0x8889160e5690be27:0x462cfd5536a14bf3       5\n",
       "4                 52  0x888cedd24b6af451:0x9958558c300844df       1\n",
       "...              ...                                    ...     ...\n",
       "5598867      6822302                 hLurbkHlY3joRaZybr5X3w       5\n",
       "5598868      6835843                 KscVqYYG7ziAroZhfNb0Ng       1\n",
       "5598869      6843421                 VX6HrL0ZryetyzHyNlxhzg       3\n",
       "5598870      6844786  0x88c2f9a6f9f5abf7:0x3d73d77351f0b233       5\n",
       "5598871      6863120                 cwERkpnPopn589ugym6ucg       5\n",
       "\n",
       "[5598872 rows x 3 columns]"
      ]
     },
     "execution_count": 27,
     "metadata": {},
     "output_type": "execute_result"
    }
   ],
   "source": [
    "reviews_ml_filt = reviews_ml[~reviews_ml['Cod_Usuario'].isin(usuarios_agrupados[\n",
    "                                                usuarios_agrupados['Cantidad']<5].index)].reset_index(drop=True)\n",
    "reviews_ml_filt"
   ]
  },
  {
   "cell_type": "code",
   "execution_count": 37,
   "metadata": {},
   "outputs": [
    {
     "data": {
      "text/plain": [
       "<AxesSubplot: xlabel='Rating', ylabel='count'>"
      ]
     },
     "execution_count": 37,
     "metadata": {},
     "output_type": "execute_result"
    },
    {
     "data": {
      "image/png": "[encoded data removed]",
      "text/plain": [
       "<Figure size 640x480 with 1 Axes>"
      ]
     },
     "metadata": {},
     "output_type": "display_data"
    }
   ],
   "source": [
    "#Se descartó mas de 2/3 del dataset. Vamos a ver si la distribución de las calificaciones cambió\n",
    "sns.countplot(data=reviews_ml_filt,x='Rating')"
   ]
  },
  {
   "attachments": {},
   "cell_type": "markdown",
   "metadata": {},
   "source": [
    "Se ve que cambió bastante. La diferencia entre las calificaciones de 5 y las demás ya no es tan grande. Igualmente sigue considerablemente desbalanceado pero así se va a trabajar. Presentamos un breve resumen a continuación."
   ]
  },
  {
   "cell_type": "code",
   "execution_count": 38,
   "metadata": {},
   "outputs": [
    {
     "name": "stdout",
     "output_type": "stream",
     "text": [
      "Cantidad de restaurants antes de quitar los usuarios que votaron poco:  171419\n",
      "Cantidad de restaurants luego de quitar los usuarios que votaron poco:  169463\n"
     ]
    }
   ],
   "source": [
    "print('Cantidad de restaurants antes de quitar los usuarios que votaron poco: ',reviews_ml['Id_Restaurant'].unique().size)\n",
    "print('Cantidad de restaurants luego de quitar los usuarios que votaron poco: ',reviews_ml_filt['Id_Restaurant'].unique().size)"
   ]
  },
  {
   "cell_type": "code",
   "execution_count": 40,
   "metadata": {},
   "outputs": [
    {
     "name": "stdout",
     "output_type": "stream",
     "text": [
      "Cantidad de usuarios antes de quitar los que votaron poco:  7038637\n",
      "Cantidad de usuarios luego de quitar los que votaron poco:  589622\n"
     ]
    }
   ],
   "source": [
    "print('Cantidad de usuarios antes de quitar los que votaron poco: ',reviews_ml['Cod_Usuario'].unique().size)\n",
    "print('Cantidad de usuarios luego de quitar los que votaron poco: ',reviews_ml_filt['Cod_Usuario'].unique().size)"
   ]
  },
  {
   "cell_type": "code",
   "execution_count": 41,
   "metadata": {},
   "outputs": [
    {
     "name": "stdout",
     "output_type": "stream",
     "text": [
      "Cantidad de reviews antes de quitar los usuarios que votaron poco:\n",
      "16007867\n",
      "Distribucion:\n",
      "5:  8536468\n",
      "4:  3704381\n",
      "3:  1722892\n",
      "2:  856264\n",
      "1:  1187862\n",
      "Cantidad de reviews luego de quitar los usuarios que votaron poco:\n",
      "5598872\n",
      "Distribucion:\n",
      "5:  2585350\n",
      "4:  1566016\n",
      "3:  744100\n",
      "2:  354569\n",
      "1:  348837\n"
     ]
    }
   ],
   "source": [
    "print('Cantidad de reviews antes de quitar los usuarios que votaron poco:')\n",
    "print(reviews_ml.shape[0])\n",
    "print('Distribucion:')\n",
    "print('5: ',reviews_ml[reviews_ml['Rating']==5].shape[0])\n",
    "print('4: ',reviews_ml[reviews_ml['Rating']==4].shape[0])\n",
    "print('3: ',reviews_ml[reviews_ml['Rating']==3].shape[0])\n",
    "print('2: ',reviews_ml[reviews_ml['Rating']==2].shape[0])\n",
    "print('1: ',reviews_ml[reviews_ml['Rating']==1].shape[0])\n",
    "print('Cantidad de reviews luego de quitar los usuarios que votaron poco:')\n",
    "print(reviews_ml_filt.shape[0])\n",
    "print('Distribucion:')\n",
    "print('5: ',reviews_ml_filt[reviews_ml_filt['Rating']==5].shape[0])\n",
    "print('4: ',reviews_ml_filt[reviews_ml_filt['Rating']==4].shape[0])\n",
    "print('3: ',reviews_ml_filt[reviews_ml_filt['Rating']==3].shape[0])\n",
    "print('2: ',reviews_ml_filt[reviews_ml_filt['Rating']==2].shape[0])\n",
    "print('1: ',reviews_ml_filt[reviews_ml_filt['Rating']==1].shape[0])"
   ]
  },
  {
   "attachments": {},
   "cell_type": "markdown",
   "metadata": {},
   "source": [
    "Finalmente exportamos y subimos los archivos. Luego de observar que registros se necesitan para el análisis de las reseñas (visto en procesamiento de reseñas) y para realizar el modelo de predicción vamos a exportar únicamente estos dataframes de manera que solamente importemos luego solamente estos también."
   ]
  },
  {
   "cell_type": "code",
   "execution_count": 42,
   "metadata": {},
   "outputs": [],
   "source": [
    "#Exportamos en formato parquet el archivo filtrado de reviews para el modelo de ML\n",
    "reviews_ml_filt.to_parquet('reviews_ml.parquet',index=False)"
   ]
  },
  {
   "cell_type": "code",
   "execution_count": 44,
   "metadata": {},
   "outputs": [
    {
     "name": "stdout",
     "output_type": "stream",
     "text": [
      "<class 'pandas.core.frame.DataFrame'>\n",
      "Int64Index: 11257361 entries, 0 to 16007866\n",
      "Data columns (total 5 columns):\n",
      " #   Column         Dtype \n",
      "---  ------         ----- \n",
      " 0   Cod_Usuario    int32 \n",
      " 1   Id_Restaurant  object\n",
      " 2   Rating         int64 \n",
      " 3   Reseña         object\n",
      " 4   Timestamp      Int64 \n",
      "dtypes: Int64(1), int32(1), int64(1), object(2)\n",
      "memory usage: 483.1+ MB\n"
     ]
    }
   ],
   "source": [
    "reviews.info()"
   ]
  },
  {
   "cell_type": "code",
   "execution_count": 46,
   "metadata": {},
   "outputs": [
    {
     "name": "stdout",
     "output_type": "stream",
     "text": [
      "<class 'pandas.core.frame.DataFrame'>\n",
      "Int64Index: 11257361 entries, 0 to 16007866\n",
      "Data columns (total 5 columns):\n",
      " #   Column         Dtype \n",
      "---  ------         ----- \n",
      " 0   Cod_Usuario    int32 \n",
      " 1   Id_Restaurant  object\n",
      " 2   Rating         int64 \n",
      " 3   Reseña         object\n",
      " 4   Timestamp      Int64 \n",
      "dtypes: Int64(1), int32(1), int64(1), object(2)\n",
      "memory usage: 483.1+ MB\n"
     ]
    }
   ],
   "source": [
    "#Filtramos las reviews que contienen el texto de las reseñas para trabajarlas con NLP\n",
    "reviews_nlp = reviews.dropna()\n",
    "reviews_nlp.info()"
   ]
  },
  {
   "cell_type": "code",
   "execution_count": 47,
   "metadata": {},
   "outputs": [
    {
     "data": {
      "text/plain": [
       "array(['Comida_Oriental', 'Comida_Rapida', 'Saludable-Vegano', 'Otros',\n",
       "       'Mariscos', 'Comida_Latinoamericana', 'Cafeteria',\n",
       "       'Comida_Italiana', 'Comida_Europea', 'Comida_Americana',\n",
       "       'Reposteria-Pasteleria-Dulceria', 'Bar'], dtype=object)"
      ]
     },
     "execution_count": 47,
     "metadata": {},
     "output_type": "execute_result"
    }
   ],
   "source": [
    "restaurants['Tipo'].unique()"
   ]
  },
  {
   "cell_type": "code",
   "execution_count": 48,
   "metadata": {},
   "outputs": [],
   "source": [
    "for t in restaurants['Tipo'].unique():\n",
    "    ids_restaurants = restaurants[restaurants['Tipo']==t]['Id_Restaurant'].values       #Definimos los ids de restaurant por tipo\n",
    "    review_tipo = reviews_nlp[reviews_nlp['Id_Restaurant'].isin(ids_restaurants)]       #Definimos el dataframe por cada tipo\n",
    "    review_tipo.to_parquet('../Reviews por tipo/'+t+'_nlp.parquet',index=False)         #Exportamos en formato parquet"
   ]
  },
  {
   "attachments": {},
   "cell_type": "markdown",
   "metadata": {},
   "source": [
    "Finalmente subimos todos los datasets a Google Cloud"
   ]
  },
  {
   "cell_type": "code",
   "execution_count": 49,
   "metadata": {},
   "outputs": [],
   "source": [
    "#Importamos librerías\n",
    "from google.cloud import storage\n",
    "import os"
   ]
  },
  {
   "cell_type": "code",
   "execution_count": 50,
   "metadata": {},
   "outputs": [],
   "source": [
    "#Definimos credenciales\n",
    "os.environ['GOOGLE_APPLICATION_CREDENTIALS'] = 'D:/Marcos/Clave GCP/vaulted-aleph-382723-3f77bc5470a3.json'"
   ]
  },
  {
   "cell_type": "code",
   "execution_count": 51,
   "metadata": {},
   "outputs": [],
   "source": [
    "#Creamos cliente de GCS\n",
    "client = storage.Client()"
   ]
  },
  {
   "cell_type": "code",
   "execution_count": 52,
   "metadata": {},
   "outputs": [],
   "source": [
    "#Llamamos a nuestro datalake\n",
    "bucket = client.get_bucket('restaurants_datalake')"
   ]
  },
  {
   "cell_type": "code",
   "execution_count": 53,
   "metadata": {},
   "outputs": [],
   "source": [
    "#Subimos las reviews para el modelo de machine learning\n",
    "blob_ml = bucket.blob('Archivos_app/reviews_ml.parquet')\n",
    "blob_ml.upload_from_filename('reviews_ml.parquet')"
   ]
  },
  {
   "cell_type": "code",
   "execution_count": 54,
   "metadata": {},
   "outputs": [],
   "source": [
    "#Subimos los archivos de las reviews dividido por tipos\n",
    "for t in restaurants['Tipo'].unique():\n",
    "    blob_tipo = bucket.blob('Archivos_app/'+t+'.parquet')\n",
    "    blob_tipo.upload_from_filename('../Reviews por tipo/'+t+'_nlp.parquet')"
   ]
  },
  {
   "cell_type": "code",
   "execution_count": null,
   "metadata": {},
   "outputs": [],
   "source": []
  }
 ],
 "metadata": {
  "kernelspec": {
   "display_name": "Python 3",
   "language": "python",
   "name": "python3"
  },
  "language_info": {
   "codemirror_mode": {
    "name": "ipython",
    "version": 3
   },
   "file_extension": ".py",
   "mimetype": "text/x-python",
   "name": "python",
   "nbconvert_exporter": "python",
   "pygments_lexer": "ipython3",
   "version": "3.10.7"
  },
  "orig_nbformat": 4
 },
 "nbformat": 4,
 "nbformat_minor": 2
}
