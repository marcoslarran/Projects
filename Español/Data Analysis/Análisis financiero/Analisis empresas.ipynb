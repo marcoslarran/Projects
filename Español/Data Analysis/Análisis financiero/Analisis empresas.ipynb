{
 "cells": [
  {
   "cell_type": "code",
   "execution_count": 1,
   "metadata": {},
   "outputs": [],
   "source": [
    "#Importamos librerias\n",
    "import pandas as pd\n",
    "import datetime\n",
    "import matplotlib.pyplot as plt\n",
    "import seaborn as sns\n",
    "\n",
    "sns.set()"
   ]
  },
  {
   "cell_type": "code",
   "execution_count": 2,
   "metadata": {},
   "outputs": [],
   "source": [
    "#Cargamos listado de empresas\n",
    "sp500_empresas = pd.read_csv('Empresas_SP500_con_marketcap.csv')"
   ]
  },
  {
   "cell_type": "code",
   "execution_count": 3,
   "metadata": {},
   "outputs": [
    {
     "data": {
      "text/html": [
       "<div>\n",
       "<style scoped>\n",
       "    .dataframe tbody tr th:only-of-type {\n",
       "        vertical-align: middle;\n",
       "    }\n",
       "\n",
       "    .dataframe tbody tr th {\n",
       "        vertical-align: top;\n",
       "    }\n",
       "\n",
       "    .dataframe thead th {\n",
       "        text-align: right;\n",
       "    }\n",
       "</style>\n",
       "<table border=\"1\" class=\"dataframe\">\n",
       "  <thead>\n",
       "    <tr style=\"text-align: right;\">\n",
       "      <th></th>\n",
       "      <th>Symbol</th>\n",
       "      <th>Security</th>\n",
       "      <th>GICS Sector</th>\n",
       "      <th>GICS Sub-Industry</th>\n",
       "      <th>Headquarters Location</th>\n",
       "      <th>Date added</th>\n",
       "      <th>CIK</th>\n",
       "      <th>Founded</th>\n",
       "      <th>Market Capitalization</th>\n",
       "      <th>Current stock value</th>\n",
       "    </tr>\n",
       "  </thead>\n",
       "  <tbody>\n",
       "    <tr>\n",
       "      <th>13</th>\n",
       "      <td>APD</td>\n",
       "      <td>Air Products and Chemicals</td>\n",
       "      <td>Materials</td>\n",
       "      <td>Industrial Gases</td>\n",
       "      <td>Allentown, Pennsylvania</td>\n",
       "      <td>1985-04-30</td>\n",
       "      <td>2969</td>\n",
       "      <td>1940</td>\n",
       "      <td>6.169466e+10</td>\n",
       "      <td>280.98</td>\n",
       "    </tr>\n",
       "    <tr>\n",
       "      <th>288</th>\n",
       "      <td>LIN</td>\n",
       "      <td>Linde plc</td>\n",
       "      <td>Materials</td>\n",
       "      <td>Industrial Gases</td>\n",
       "      <td>Guildford, United Kingdom</td>\n",
       "      <td>1992-07-01</td>\n",
       "      <td>1707925</td>\n",
       "      <td>1879</td>\n",
       "      <td>1.640474e+11</td>\n",
       "      <td>347.66</td>\n",
       "    </tr>\n",
       "    <tr>\n",
       "      <th>302</th>\n",
       "      <td>MLM</td>\n",
       "      <td>Martin Marietta Materials</td>\n",
       "      <td>Materials</td>\n",
       "      <td>Construction Materials</td>\n",
       "      <td>Raleigh, North Carolina</td>\n",
       "      <td>2014-07-02</td>\n",
       "      <td>916076</td>\n",
       "      <td>1993</td>\n",
       "      <td>2.237190e+10</td>\n",
       "      <td>362.08</td>\n",
       "    </tr>\n",
       "  </tbody>\n",
       "</table>\n",
       "</div>"
      ],
      "text/plain": [
       "    Symbol                    Security GICS Sector       GICS Sub-Industry  \\\n",
       "13     APD  Air Products and Chemicals   Materials        Industrial Gases   \n",
       "288    LIN                   Linde plc   Materials        Industrial Gases   \n",
       "302    MLM   Martin Marietta Materials   Materials  Construction Materials   \n",
       "\n",
       "         Headquarters Location  Date added      CIK Founded  \\\n",
       "13     Allentown, Pennsylvania  1985-04-30     2969    1940   \n",
       "288  Guildford, United Kingdom  1992-07-01  1707925    1879   \n",
       "302    Raleigh, North Carolina  2014-07-02   916076    1993   \n",
       "\n",
       "     Market Capitalization  Current stock value  \n",
       "13            6.169466e+10               280.98  \n",
       "288           1.640474e+11               347.66  \n",
       "302           2.237190e+10               362.08  "
      ]
     },
     "execution_count": 3,
     "metadata": {},
     "output_type": "execute_result"
    }
   ],
   "source": [
    "#Filtramos las empresas seleccionadas.\n",
    "lista = ['APD','LIN','MLM']\n",
    "empresas_analizadas = sp500_empresas[sp500_empresas['Symbol'].isin(lista)]\n",
    "empresas_analizadas"
   ]
  },
  {
   "cell_type": "code",
   "execution_count": 4,
   "metadata": {},
   "outputs": [],
   "source": [
    "#Exportamos a csv\n",
    "empresas_analizadas.to_csv('Datos_empresas.csv',index=False)"
   ]
  },
  {
   "cell_type": "code",
   "execution_count": 7,
   "metadata": {},
   "outputs": [],
   "source": [
    "#Definimos función para importar csv\n",
    "def leerCSVdeIndices (simbolo:str):\n",
    "    try:\n",
    "        df = pd.read_csv(simbolo+'.csv',index_col=0)\n",
    "    except:\n",
    "        try:\n",
    "            df = pd.read_csv('Sectores/'+simbolo+'.csv',index_col=0)\n",
    "        except:\n",
    "            df = pd.read_csv('Empresas/'+simbolo+'.csv',index_col=0)\n",
    "    df.index = pd.to_datetime(df.index)\n",
    "    return df"
   ]
  },
  {
   "cell_type": "code",
   "execution_count": 8,
   "metadata": {},
   "outputs": [],
   "source": [
    "#Importamos datos de las empresas seleccionadas.\n",
    "apd = leerCSVdeIndices('APD')\n",
    "lin = leerCSVdeIndices('LIN')\n",
    "mlm = leerCSVdeIndices('MLM')"
   ]
  },
  {
   "cell_type": "code",
   "execution_count": 21,
   "metadata": {},
   "outputs": [
    {
     "data": {
      "text/plain": [
       "Date\n",
       "2000-05-04    16.798745\n",
       "2000-05-05    16.820408\n",
       "2000-05-08    16.844074\n",
       "2000-05-09    16.866695\n",
       "2000-05-10    16.892057\n",
       "Name: Close, dtype: float64"
      ]
     },
     "execution_count": 21,
     "metadata": {},
     "output_type": "execute_result"
    }
   ],
   "source": [
    "#Obtenemos la media móvil a 100 días\n",
    "apd_tendencia = apd['Close'].rolling(window=(100),center=True).mean()\n",
    "apd_tendencia.dropna(inplace=True)\n",
    "apd_tendencia.head()"
   ]
  },
  {
   "cell_type": "code",
   "execution_count": 22,
   "metadata": {},
   "outputs": [
    {
     "data": {
      "text/plain": [
       "<Axes: xlabel='Date', ylabel='Close'>"
      ]
     },
     "execution_count": 22,
     "metadata": {},
     "output_type": "execute_result"
    },
    {
     "data": {
      "image/png": "[encoded data removed]",
      "text/plain": [
       "<Figure size 640x480 with 1 Axes>"
      ]
     },
     "metadata": {},
     "output_type": "display_data"
    }
   ],
   "source": [
    "sns.lineplot(data=apd,x=apd.index,y='Close')\n",
    "sns.lineplot(data=apd_tendencia,x=apd_tendencia.index,y=apd_tendencia.values)"
   ]
  },
  {
   "cell_type": "code",
   "execution_count": null,
   "metadata": {},
   "outputs": [],
   "source": []
  }
 ],
 "metadata": {
  "kernelspec": {
   "display_name": "pi02_st_env",
   "language": "python",
   "name": "python3"
  },
  "language_info": {
   "codemirror_mode": {
    "name": "ipython",
    "version": 3
   },
   "file_extension": ".py",
   "mimetype": "text/x-python",
   "name": "python",
   "nbconvert_exporter": "python",
   "pygments_lexer": "ipython3",
   "version": "3.10.7"
  },
  "orig_nbformat": 4,
  "vscode": {
   "interpreter": {
    "hash": "31f0da27a3afd3a2ecac290cd0b80422a8cf1e4906e10bf00e7e034f5a47dd3b"
   }
  }
 },
 "nbformat": 4,
 "nbformat_minor": 2
}
