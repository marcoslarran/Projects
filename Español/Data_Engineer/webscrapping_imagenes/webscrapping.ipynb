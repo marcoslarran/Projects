{
 "cells": [
  {
   "attachments": {},
   "cell_type": "markdown",
   "metadata": {},
   "source": [
    "Vamos a comenzar con una prueba de scraping de imágenes y contenido, en donde tendrás que robotear imágenes de un sitio de baterías y realizar lo siguiente:\n",
    "\n",
    "* Almacenarlas localmente\n",
    "* Renombrar las imágenes dándoles el siguiente formato Marca-OEM.jpg o en su defecto Marca-CodigoPieza.jpg o el formato de imagen nativo png etc. Ejemplo: EXIDE- EK508.jpg\n",
    "* Subir las mismas a un servidor web, hosting o Google Drive\n",
    "* Crear automáticamente un archivo de Excel con el nombre de cada imagen dado anteriormente juntamente con su URL o ubicación de la misma en el servidor"
   ]
  },
  {
   "cell_type": "code",
   "execution_count": 1,
   "metadata": {},
   "outputs": [],
   "source": [
    "#Importamos librerías necesarias\n",
    "import requests\n",
    "from bs4 import BeautifulSoup\n",
    "import pandas as pd\n",
    "import urllib.request\n",
    "from urllib.parse import urlsplit"
   ]
  },
  {
   "cell_type": "code",
   "execution_count": 2,
   "metadata": {},
   "outputs": [],
   "source": [
    "#Importamos el contenido de la pagina principal\n",
    "url = 'https://www.exidegroup.com/es/es/battery-finder/browse-all'\n",
    "response = requests.get(url)"
   ]
  },
  {
   "cell_type": "code",
   "execution_count": 3,
   "metadata": {},
   "outputs": [],
   "source": [
    "#Definimos objeto de BeautifulSoup\n",
    "soup = BeautifulSoup(response.content, 'html.parser')"
   ]
  },
  {
   "cell_type": "code",
   "execution_count": 4,
   "metadata": {},
   "outputs": [],
   "source": [
    "#Buscamos tablas\n",
    "tables = soup.find_all('table')"
   ]
  },
  {
   "cell_type": "code",
   "execution_count": 5,
   "metadata": {},
   "outputs": [],
   "source": [
    "#Guardamos las tablas como dataframes\n",
    "dfs = []                                                #Definimos lista de dataframes\n",
    "for table in tables:                                    #Para cada una de las tablas\n",
    "    df = pd.read_html(str(table))[0]                    #Transformamos en dataframe\n",
    "    df.columns = df.columns.droplevel(0)                #Dropeamos primer header\n",
    "    df.drop(columns=df.columns[0],inplace=True)         #Dropeamos columna 1 que no aporta información\n",
    "    for i in range(df.shape[0]):\n",
    "        try:\n",
    "            int(df['Capacidad (Ah)'][i])\n",
    "        except:\n",
    "            df.drop(index=i,inplace=True)               #Dropeamos filas innecesarias\n",
    "    df.reset_index(drop=True,inplace=True)              #Reseteamos indices\n",
    "    dfs.append(df)                                      #Agregamos a lista de dataframes"
   ]
  },
  {
   "cell_type": "code",
   "execution_count": 6,
   "metadata": {},
   "outputs": [
    {
     "data": {
      "text/plain": [
       "4"
      ]
     },
     "execution_count": 6,
     "metadata": {},
     "output_type": "execute_result"
    }
   ],
   "source": [
    "#Vemos que sean 4 dataframes\n",
    "len(dfs)"
   ]
  },
  {
   "cell_type": "code",
   "execution_count": 7,
   "metadata": {},
   "outputs": [],
   "source": [
    "#Definimos cada dataframe con un nombre según su aplicación\n",
    "cars = dfs[0]\n",
    "trucks_buses = dfs[1]\n",
    "marine = dfs[2]\n",
    "motorbikes = dfs[3]"
   ]
  },
  {
   "cell_type": "code",
   "execution_count": 8,
   "metadata": {},
   "outputs": [
    {
     "name": "stdout",
     "output_type": "stream",
     "text": [
      "<class 'pandas.core.frame.DataFrame'>\n",
      "RangeIndex: 294 entries, 0 to 293\n",
      "Data columns (total 12 columns):\n",
      " #   Column                Non-Null Count  Dtype \n",
      "---  ------                --------------  ----- \n",
      " 0   Referencia comercial  294 non-null    object\n",
      " 1   Capacidad (Ah)        294 non-null    object\n",
      " 2   CCA (A) (A)           294 non-null    object\n",
      " 3   Tamaño recipiente     294 non-null    object\n",
      " 4   La (mm)               294 non-null    object\n",
      " 5   An (mm)               294 non-null    object\n",
      " 6   Al (mm)               294 non-null    object\n",
      " 7   Talón                 294 non-null    object\n",
      " 8   Esquema (Polaridad)   294 non-null    object\n",
      " 9   Tipo de terminal      294 non-null    object\n",
      " 10  MCA (A)               58 non-null     object\n",
      " 11  WH                    164 non-null    object\n",
      "dtypes: object(12)\n",
      "memory usage: 27.7+ KB\n"
     ]
    }
   ],
   "source": [
    "#Concatenamos todo en un solo dataframe\n",
    "bateries = pd.concat([cars,trucks_buses,marine,motorbikes],ignore_index=True)\n",
    "bateries.info()"
   ]
  },
  {
   "cell_type": "code",
   "execution_count": 9,
   "metadata": {},
   "outputs": [
    {
     "data": {
      "text/html": [
       "<div>\n",
       "<style scoped>\n",
       "    .dataframe tbody tr th:only-of-type {\n",
       "        vertical-align: middle;\n",
       "    }\n",
       "\n",
       "    .dataframe tbody tr th {\n",
       "        vertical-align: top;\n",
       "    }\n",
       "\n",
       "    .dataframe thead th {\n",
       "        text-align: right;\n",
       "    }\n",
       "</style>\n",
       "<table border=\"1\" class=\"dataframe\">\n",
       "  <thead>\n",
       "    <tr style=\"text-align: right;\">\n",
       "      <th></th>\n",
       "      <th>Referencia comercial</th>\n",
       "      <th>Capacidad (Ah)</th>\n",
       "      <th>CCA (A) (A)</th>\n",
       "      <th>Tamaño recipiente</th>\n",
       "      <th>La (mm)</th>\n",
       "      <th>An (mm)</th>\n",
       "      <th>Al (mm)</th>\n",
       "      <th>Talón</th>\n",
       "      <th>Esquema (Polaridad)</th>\n",
       "      <th>Tipo de terminal</th>\n",
       "      <th>MCA (A)</th>\n",
       "      <th>WH</th>\n",
       "    </tr>\n",
       "  </thead>\n",
       "  <tbody>\n",
       "    <tr>\n",
       "      <th>130</th>\n",
       "      <td>EV1300/24</td>\n",
       "      <td>50</td>\n",
       "      <td>-</td>\n",
       "      <td>G77</td>\n",
       "      <td>307</td>\n",
       "      <td>170</td>\n",
       "      <td>216</td>\n",
       "      <td>B0</td>\n",
       "      <td>ETN 1</td>\n",
       "      <td>Female M8</td>\n",
       "      <td>-</td>\n",
       "      <td>1300</td>\n",
       "    </tr>\n",
       "    <tr>\n",
       "      <th>134</th>\n",
       "      <td>EV3800/36</td>\n",
       "      <td>100</td>\n",
       "      <td>-</td>\n",
       "      <td>H52</td>\n",
       "      <td>520</td>\n",
       "      <td>269</td>\n",
       "      <td>221</td>\n",
       "      <td>B0</td>\n",
       "      <td>ETN 4</td>\n",
       "      <td>Female M8</td>\n",
       "      <td>-</td>\n",
       "      <td>3800</td>\n",
       "    </tr>\n",
       "  </tbody>\n",
       "</table>\n",
       "</div>"
      ],
      "text/plain": [
       "    Referencia comercial Capacidad (Ah) CCA (A) (A) Tamaño recipiente La (mm)   \n",
       "130            EV1300/24             50           -               G77     307  \\\n",
       "134            EV3800/36            100           -               H52     520   \n",
       "\n",
       "    An (mm) Al (mm) Talón Esquema (Polaridad) Tipo de terminal MCA (A)    WH  \n",
       "130     170     216    B0               ETN 1        Female M8       -  1300  \n",
       "134     269     221    B0               ETN 4        Female M8       -  3800  "
      ]
     },
     "execution_count": 9,
     "metadata": {},
     "output_type": "execute_result"
    }
   ],
   "source": [
    "#Hay baterías que tiene el caracter \"/\" dentro de su nombre. Las identificamos.\n",
    "bateries[bateries['Referencia comercial'].str.contains('/')]"
   ]
  },
  {
   "cell_type": "code",
   "execution_count": 10,
   "metadata": {},
   "outputs": [
    {
     "data": {
      "text/html": [
       "<div>\n",
       "<style scoped>\n",
       "    .dataframe tbody tr th:only-of-type {\n",
       "        vertical-align: middle;\n",
       "    }\n",
       "\n",
       "    .dataframe tbody tr th {\n",
       "        vertical-align: top;\n",
       "    }\n",
       "\n",
       "    .dataframe thead th {\n",
       "        text-align: right;\n",
       "    }\n",
       "</style>\n",
       "<table border=\"1\" class=\"dataframe\">\n",
       "  <thead>\n",
       "    <tr style=\"text-align: right;\">\n",
       "      <th></th>\n",
       "      <th>Referencia comercial</th>\n",
       "      <th>Capacidad (Ah)</th>\n",
       "      <th>CCA (A) (A)</th>\n",
       "      <th>Tamaño recipiente</th>\n",
       "      <th>La (mm)</th>\n",
       "      <th>An (mm)</th>\n",
       "      <th>Al (mm)</th>\n",
       "      <th>Talón</th>\n",
       "      <th>Esquema (Polaridad)</th>\n",
       "      <th>Tipo de terminal</th>\n",
       "      <th>MCA (A)</th>\n",
       "      <th>WH</th>\n",
       "      <th>Fin_Url</th>\n",
       "    </tr>\n",
       "  </thead>\n",
       "  <tbody>\n",
       "    <tr>\n",
       "      <th>130</th>\n",
       "      <td>EV1300/24</td>\n",
       "      <td>50</td>\n",
       "      <td>-</td>\n",
       "      <td>G77</td>\n",
       "      <td>307</td>\n",
       "      <td>170</td>\n",
       "      <td>216</td>\n",
       "      <td>B0</td>\n",
       "      <td>ETN 1</td>\n",
       "      <td>Female M8</td>\n",
       "      <td>-</td>\n",
       "      <td>1300</td>\n",
       "      <td>EV1300--24</td>\n",
       "    </tr>\n",
       "    <tr>\n",
       "      <th>131</th>\n",
       "      <td>EV640</td>\n",
       "      <td>50</td>\n",
       "      <td>-</td>\n",
       "      <td>D31</td>\n",
       "      <td>308</td>\n",
       "      <td>168</td>\n",
       "      <td>211</td>\n",
       "      <td>B0</td>\n",
       "      <td>ETN 1</td>\n",
       "      <td>Female M8</td>\n",
       "      <td>-</td>\n",
       "      <td>640</td>\n",
       "      <td>EV640</td>\n",
       "    </tr>\n",
       "    <tr>\n",
       "      <th>132</th>\n",
       "      <td>EV1250</td>\n",
       "      <td>96</td>\n",
       "      <td>-</td>\n",
       "      <td>L05</td>\n",
       "      <td>355</td>\n",
       "      <td>176</td>\n",
       "      <td>190</td>\n",
       "      <td>B13</td>\n",
       "      <td>ETN 0</td>\n",
       "      <td>EN taper post</td>\n",
       "      <td>-</td>\n",
       "      <td>1250</td>\n",
       "      <td>EV1250</td>\n",
       "    </tr>\n",
       "    <tr>\n",
       "      <th>133</th>\n",
       "      <td>EV1300</td>\n",
       "      <td>100</td>\n",
       "      <td>-</td>\n",
       "      <td>D31</td>\n",
       "      <td>308</td>\n",
       "      <td>168</td>\n",
       "      <td>211</td>\n",
       "      <td>B0</td>\n",
       "      <td>ETN 1</td>\n",
       "      <td>Female M8</td>\n",
       "      <td>-</td>\n",
       "      <td>1300</td>\n",
       "      <td>EV1300</td>\n",
       "    </tr>\n",
       "    <tr>\n",
       "      <th>134</th>\n",
       "      <td>EV3800/36</td>\n",
       "      <td>100</td>\n",
       "      <td>-</td>\n",
       "      <td>H52</td>\n",
       "      <td>520</td>\n",
       "      <td>269</td>\n",
       "      <td>221</td>\n",
       "      <td>B0</td>\n",
       "      <td>ETN 4</td>\n",
       "      <td>Female M8</td>\n",
       "      <td>-</td>\n",
       "      <td>3800</td>\n",
       "      <td>EV3800--36</td>\n",
       "    </tr>\n",
       "  </tbody>\n",
       "</table>\n",
       "</div>"
      ],
      "text/plain": [
       "    Referencia comercial Capacidad (Ah) CCA (A) (A) Tamaño recipiente La (mm)   \n",
       "130            EV1300/24             50           -               G77     307  \\\n",
       "131                EV640             50           -               D31     308   \n",
       "132               EV1250             96           -               L05     355   \n",
       "133               EV1300            100           -               D31     308   \n",
       "134            EV3800/36            100           -               H52     520   \n",
       "\n",
       "    An (mm) Al (mm) Talón Esquema (Polaridad) Tipo de terminal MCA (A)    WH   \n",
       "130     170     216    B0               ETN 1        Female M8       -  1300  \\\n",
       "131     168     211    B0               ETN 1        Female M8       -   640   \n",
       "132     176     190   B13               ETN 0    EN taper post       -  1250   \n",
       "133     168     211    B0               ETN 1        Female M8       -  1300   \n",
       "134     269     221    B0               ETN 4        Female M8       -  3800   \n",
       "\n",
       "        Fin_Url  \n",
       "130  EV1300--24  \n",
       "131       EV640  \n",
       "132      EV1250  \n",
       "133      EV1300  \n",
       "134  EV3800--36  "
      ]
     },
     "execution_count": 10,
     "metadata": {},
     "output_type": "execute_result"
    }
   ],
   "source": [
    "#Definimos url de cada batería. Reemplazamos \"/\" por \"--\" según lo visto en la página\n",
    "bateries['Fin_Url'] = bateries['Referencia comercial'].str.replace('/','--')\n",
    "bateries.iloc[130:135]"
   ]
  },
  {
   "cell_type": "code",
   "execution_count": 11,
   "metadata": {},
   "outputs": [
    {
     "data": {
      "text/html": [
       "<div>\n",
       "<style scoped>\n",
       "    .dataframe tbody tr th:only-of-type {\n",
       "        vertical-align: middle;\n",
       "    }\n",
       "\n",
       "    .dataframe tbody tr th {\n",
       "        vertical-align: top;\n",
       "    }\n",
       "\n",
       "    .dataframe thead th {\n",
       "        text-align: right;\n",
       "    }\n",
       "</style>\n",
       "<table border=\"1\" class=\"dataframe\">\n",
       "  <thead>\n",
       "    <tr style=\"text-align: right;\">\n",
       "      <th></th>\n",
       "      <th>Referencia comercial</th>\n",
       "      <th>Capacidad (Ah)</th>\n",
       "      <th>CCA (A) (A)</th>\n",
       "      <th>Tamaño recipiente</th>\n",
       "      <th>La (mm)</th>\n",
       "      <th>An (mm)</th>\n",
       "      <th>Al (mm)</th>\n",
       "      <th>Talón</th>\n",
       "      <th>Esquema (Polaridad)</th>\n",
       "      <th>Tipo de terminal</th>\n",
       "      <th>MCA (A)</th>\n",
       "      <th>WH</th>\n",
       "      <th>Fin_Url</th>\n",
       "    </tr>\n",
       "  </thead>\n",
       "  <tbody>\n",
       "    <tr>\n",
       "      <th>0</th>\n",
       "      <td>EK508</td>\n",
       "      <td>50</td>\n",
       "      <td>800</td>\n",
       "      <td>G34</td>\n",
       "      <td>260</td>\n",
       "      <td>173</td>\n",
       "      <td>206</td>\n",
       "      <td>B7</td>\n",
       "      <td>ETN 9</td>\n",
       "      <td>EN taper post</td>\n",
       "      <td>NaN</td>\n",
       "      <td>NaN</td>\n",
       "      <td>EK508</td>\n",
       "    </tr>\n",
       "    <tr>\n",
       "      <th>1</th>\n",
       "      <td>EK600</td>\n",
       "      <td>60</td>\n",
       "      <td>680</td>\n",
       "      <td>L02</td>\n",
       "      <td>242</td>\n",
       "      <td>175</td>\n",
       "      <td>190</td>\n",
       "      <td>B13</td>\n",
       "      <td>ETN 0</td>\n",
       "      <td>EN taper post</td>\n",
       "      <td>NaN</td>\n",
       "      <td>NaN</td>\n",
       "      <td>EK600</td>\n",
       "    </tr>\n",
       "    <tr>\n",
       "      <th>2</th>\n",
       "      <td>EK620</td>\n",
       "      <td>62</td>\n",
       "      <td>680</td>\n",
       "      <td>L02</td>\n",
       "      <td>242</td>\n",
       "      <td>175</td>\n",
       "      <td>190</td>\n",
       "      <td>B13</td>\n",
       "      <td>ETN 0</td>\n",
       "      <td>EN taper post</td>\n",
       "      <td>NaN</td>\n",
       "      <td>NaN</td>\n",
       "      <td>EK620</td>\n",
       "    </tr>\n",
       "    <tr>\n",
       "      <th>3</th>\n",
       "      <td>EK700</td>\n",
       "      <td>70</td>\n",
       "      <td>760</td>\n",
       "      <td>L03</td>\n",
       "      <td>278</td>\n",
       "      <td>175</td>\n",
       "      <td>190</td>\n",
       "      <td>B13</td>\n",
       "      <td>ETN 0</td>\n",
       "      <td>EN taper post</td>\n",
       "      <td>NaN</td>\n",
       "      <td>NaN</td>\n",
       "      <td>EK700</td>\n",
       "    </tr>\n",
       "    <tr>\n",
       "      <th>4</th>\n",
       "      <td>EK720</td>\n",
       "      <td>72</td>\n",
       "      <td>760</td>\n",
       "      <td>L03</td>\n",
       "      <td>278</td>\n",
       "      <td>175</td>\n",
       "      <td>190</td>\n",
       "      <td>B13</td>\n",
       "      <td>ETN 0</td>\n",
       "      <td>EN taper post</td>\n",
       "      <td>NaN</td>\n",
       "      <td>NaN</td>\n",
       "      <td>EK720</td>\n",
       "    </tr>\n",
       "  </tbody>\n",
       "</table>\n",
       "</div>"
      ],
      "text/plain": [
       "  Referencia comercial Capacidad (Ah) CCA (A) (A) Tamaño recipiente La (mm)   \n",
       "0                EK508             50         800               G34     260  \\\n",
       "1                EK600             60         680               L02     242   \n",
       "2                EK620             62         680               L02     242   \n",
       "3                EK700             70         760               L03     278   \n",
       "4                EK720             72         760               L03     278   \n",
       "\n",
       "  An (mm) Al (mm) Talón Esquema (Polaridad) Tipo de terminal MCA (A)   WH   \n",
       "0     173     206    B7               ETN 9    EN taper post     NaN  NaN  \\\n",
       "1     175     190   B13               ETN 0    EN taper post     NaN  NaN   \n",
       "2     175     190   B13               ETN 0    EN taper post     NaN  NaN   \n",
       "3     175     190   B13               ETN 0    EN taper post     NaN  NaN   \n",
       "4     175     190   B13               ETN 0    EN taper post     NaN  NaN   \n",
       "\n",
       "  Fin_Url  \n",
       "0   EK508  \n",
       "1   EK600  \n",
       "2   EK620  \n",
       "3   EK700  \n",
       "4   EK720  "
      ]
     },
     "execution_count": 11,
     "metadata": {},
     "output_type": "execute_result"
    }
   ],
   "source": [
    "bateries.head()"
   ]
  },
  {
   "attachments": {},
   "cell_type": "markdown",
   "metadata": {},
   "source": [
    "Acabamos de terminar la preparación de la tabla con todas las baterías. Ahora procederemos a recolectar las imágenes y almacenarlas localmente."
   ]
  },
  {
   "cell_type": "code",
   "execution_count": 12,
   "metadata": {},
   "outputs": [],
   "source": [
    "#Vamos a ver un ejemplo y después aplicarlo a todas las baterías\n",
    "url_bat = 'https://www.exidegroup.com/es/es/battery/EK508'\n",
    "response_bat = requests.get(url_bat)"
   ]
  },
  {
   "cell_type": "code",
   "execution_count": 13,
   "metadata": {},
   "outputs": [],
   "source": [
    "#Definimos objeto de BeautifulSoup\n",
    "soup_bat = BeautifulSoup(response_bat.content,'html.parser')"
   ]
  },
  {
   "cell_type": "code",
   "execution_count": 14,
   "metadata": {},
   "outputs": [],
   "source": [
    "#Obtenemos todas las imágenes que haya\n",
    "images = soup_bat.find_all('img')"
   ]
  },
  {
   "cell_type": "code",
   "execution_count": 15,
   "metadata": {},
   "outputs": [
    {
     "data": {
      "text/plain": [
       "15"
      ]
     },
     "execution_count": 15,
     "metadata": {},
     "output_type": "execute_result"
    }
   ],
   "source": [
    "#Vemos cuantas son\n",
    "len(images)"
   ]
  },
  {
   "cell_type": "code",
   "execution_count": 16,
   "metadata": {},
   "outputs": [
    {
     "ename": "ValueError",
     "evalue": "unknown url type: '/es/themes/exide/images/logo-exide.svg'",
     "output_type": "error",
     "traceback": [
      "\u001b[1;31m---------------------------------------------------------------------------\u001b[0m",
      "\u001b[1;31mValueError\u001b[0m                                Traceback (most recent call last)",
      "Cell \u001b[1;32mIn[16], line 3\u001b[0m\n\u001b[0;32m      1\u001b[0m \u001b[39mfor\u001b[39;00m i,img \u001b[39min\u001b[39;00m \u001b[39menumerate\u001b[39m(images):\n\u001b[0;32m      2\u001b[0m     source \u001b[39m=\u001b[39m img\u001b[39m.\u001b[39mget(\u001b[39m'\u001b[39m\u001b[39msrc\u001b[39m\u001b[39m'\u001b[39m)                                     \u001b[39m#Tomamos la url de la imagen\u001b[39;00m\n\u001b[1;32m----> 3\u001b[0m     urllib\u001b[39m.\u001b[39;49mrequest\u001b[39m.\u001b[39;49murlretrieve(source, \u001b[39m\"\u001b[39;49m\u001b[39mimage\u001b[39;49m\u001b[39m\"\u001b[39;49m\u001b[39m+\u001b[39;49m\u001b[39mstr\u001b[39;49m(i)\u001b[39m+\u001b[39;49m\u001b[39m\"\u001b[39;49m\u001b[39m.jpg\u001b[39;49m\u001b[39m\"\u001b[39;49m)   \u001b[39m#La guardamos como \"image1.jpg\",\"image2.jpg\",etc.\u001b[39;00m\n",
      "File \u001b[1;32m~\\AppData\\Local\\Programs\\Python\\Python310\\lib\\urllib\\request.py:241\u001b[0m, in \u001b[0;36murlretrieve\u001b[1;34m(url, filename, reporthook, data)\u001b[0m\n\u001b[0;32m    224\u001b[0m \u001b[39m\u001b[39m\u001b[39m\"\"\"\u001b[39;00m\n\u001b[0;32m    225\u001b[0m \u001b[39mRetrieve a URL into a temporary location on disk.\u001b[39;00m\n\u001b[0;32m    226\u001b[0m \n\u001b[1;32m   (...)\u001b[0m\n\u001b[0;32m    237\u001b[0m \u001b[39mdata file as well as the resulting HTTPMessage object.\u001b[39;00m\n\u001b[0;32m    238\u001b[0m \u001b[39m\"\"\"\u001b[39;00m\n\u001b[0;32m    239\u001b[0m url_type, path \u001b[39m=\u001b[39m _splittype(url)\n\u001b[1;32m--> 241\u001b[0m \u001b[39mwith\u001b[39;00m contextlib\u001b[39m.\u001b[39mclosing(urlopen(url, data)) \u001b[39mas\u001b[39;00m fp:\n\u001b[0;32m    242\u001b[0m     headers \u001b[39m=\u001b[39m fp\u001b[39m.\u001b[39minfo()\n\u001b[0;32m    244\u001b[0m     \u001b[39m# Just return the local path and the \"headers\" for file://\u001b[39;00m\n\u001b[0;32m    245\u001b[0m     \u001b[39m# URLs. No sense in performing a copy unless requested.\u001b[39;00m\n",
      "File \u001b[1;32m~\\AppData\\Local\\Programs\\Python\\Python310\\lib\\urllib\\request.py:216\u001b[0m, in \u001b[0;36murlopen\u001b[1;34m(url, data, timeout, cafile, capath, cadefault, context)\u001b[0m\n\u001b[0;32m    214\u001b[0m \u001b[39melse\u001b[39;00m:\n\u001b[0;32m    215\u001b[0m     opener \u001b[39m=\u001b[39m _opener\n\u001b[1;32m--> 216\u001b[0m \u001b[39mreturn\u001b[39;00m opener\u001b[39m.\u001b[39;49mopen(url, data, timeout)\n",
      "File \u001b[1;32m~\\AppData\\Local\\Programs\\Python\\Python310\\lib\\urllib\\request.py:503\u001b[0m, in \u001b[0;36mOpenerDirector.open\u001b[1;34m(self, fullurl, data, timeout)\u001b[0m\n\u001b[0;32m    500\u001b[0m \u001b[39mdef\u001b[39;00m \u001b[39mopen\u001b[39m(\u001b[39mself\u001b[39m, fullurl, data\u001b[39m=\u001b[39m\u001b[39mNone\u001b[39;00m, timeout\u001b[39m=\u001b[39msocket\u001b[39m.\u001b[39m_GLOBAL_DEFAULT_TIMEOUT):\n\u001b[0;32m    501\u001b[0m     \u001b[39m# accept a URL or a Request object\u001b[39;00m\n\u001b[0;32m    502\u001b[0m     \u001b[39mif\u001b[39;00m \u001b[39misinstance\u001b[39m(fullurl, \u001b[39mstr\u001b[39m):\n\u001b[1;32m--> 503\u001b[0m         req \u001b[39m=\u001b[39m Request(fullurl, data)\n\u001b[0;32m    504\u001b[0m     \u001b[39melse\u001b[39;00m:\n\u001b[0;32m    505\u001b[0m         req \u001b[39m=\u001b[39m fullurl\n",
      "File \u001b[1;32m~\\AppData\\Local\\Programs\\Python\\Python310\\lib\\urllib\\request.py:322\u001b[0m, in \u001b[0;36mRequest.__init__\u001b[1;34m(self, url, data, headers, origin_req_host, unverifiable, method)\u001b[0m\n\u001b[0;32m    319\u001b[0m \u001b[39mdef\u001b[39;00m \u001b[39m__init__\u001b[39m(\u001b[39mself\u001b[39m, url, data\u001b[39m=\u001b[39m\u001b[39mNone\u001b[39;00m, headers\u001b[39m=\u001b[39m{},\n\u001b[0;32m    320\u001b[0m              origin_req_host\u001b[39m=\u001b[39m\u001b[39mNone\u001b[39;00m, unverifiable\u001b[39m=\u001b[39m\u001b[39mFalse\u001b[39;00m,\n\u001b[0;32m    321\u001b[0m              method\u001b[39m=\u001b[39m\u001b[39mNone\u001b[39;00m):\n\u001b[1;32m--> 322\u001b[0m     \u001b[39mself\u001b[39;49m\u001b[39m.\u001b[39;49mfull_url \u001b[39m=\u001b[39m url\n\u001b[0;32m    323\u001b[0m     \u001b[39mself\u001b[39m\u001b[39m.\u001b[39mheaders \u001b[39m=\u001b[39m {}\n\u001b[0;32m    324\u001b[0m     \u001b[39mself\u001b[39m\u001b[39m.\u001b[39munredirected_hdrs \u001b[39m=\u001b[39m {}\n",
      "File \u001b[1;32m~\\AppData\\Local\\Programs\\Python\\Python310\\lib\\urllib\\request.py:348\u001b[0m, in \u001b[0;36mRequest.full_url\u001b[1;34m(self, url)\u001b[0m\n\u001b[0;32m    346\u001b[0m \u001b[39mself\u001b[39m\u001b[39m.\u001b[39m_full_url \u001b[39m=\u001b[39m unwrap(url)\n\u001b[0;32m    347\u001b[0m \u001b[39mself\u001b[39m\u001b[39m.\u001b[39m_full_url, \u001b[39mself\u001b[39m\u001b[39m.\u001b[39mfragment \u001b[39m=\u001b[39m _splittag(\u001b[39mself\u001b[39m\u001b[39m.\u001b[39m_full_url)\n\u001b[1;32m--> 348\u001b[0m \u001b[39mself\u001b[39;49m\u001b[39m.\u001b[39;49m_parse()\n",
      "File \u001b[1;32m~\\AppData\\Local\\Programs\\Python\\Python310\\lib\\urllib\\request.py:377\u001b[0m, in \u001b[0;36mRequest._parse\u001b[1;34m(self)\u001b[0m\n\u001b[0;32m    375\u001b[0m \u001b[39mself\u001b[39m\u001b[39m.\u001b[39mtype, rest \u001b[39m=\u001b[39m _splittype(\u001b[39mself\u001b[39m\u001b[39m.\u001b[39m_full_url)\n\u001b[0;32m    376\u001b[0m \u001b[39mif\u001b[39;00m \u001b[39mself\u001b[39m\u001b[39m.\u001b[39mtype \u001b[39mis\u001b[39;00m \u001b[39mNone\u001b[39;00m:\n\u001b[1;32m--> 377\u001b[0m     \u001b[39mraise\u001b[39;00m \u001b[39mValueError\u001b[39;00m(\u001b[39m\"\u001b[39m\u001b[39munknown url type: \u001b[39m\u001b[39m%r\u001b[39;00m\u001b[39m\"\u001b[39m \u001b[39m%\u001b[39m \u001b[39mself\u001b[39m\u001b[39m.\u001b[39mfull_url)\n\u001b[0;32m    378\u001b[0m \u001b[39mself\u001b[39m\u001b[39m.\u001b[39mhost, \u001b[39mself\u001b[39m\u001b[39m.\u001b[39mselector \u001b[39m=\u001b[39m _splithost(rest)\n\u001b[0;32m    379\u001b[0m \u001b[39mif\u001b[39;00m \u001b[39mself\u001b[39m\u001b[39m.\u001b[39mhost:\n",
      "\u001b[1;31mValueError\u001b[0m: unknown url type: '/es/themes/exide/images/logo-exide.svg'"
     ]
    }
   ],
   "source": [
    "#Descargamos todas las imágenes de manera local\n",
    "for i,img in enumerate(images):\n",
    "    source = img.get('src')                                     #Tomamos la url de la imagen\n",
    "    urllib.request.urlretrieve(source, \"image\"+str(i)+\".jpg\")   #La guardamos temporariamente como \"image1.jpg\",\"image2.jpg\",etc."
   ]
  },
  {
   "cell_type": "code",
   "execution_count": 17,
   "metadata": {},
   "outputs": [
    {
     "name": "stdout",
     "output_type": "stream",
     "text": [
      "0\n",
      "1\n",
      "2\n",
      "4\n",
      "5\n",
      "8\n",
      "9\n",
      "10\n",
      "11\n",
      "12\n",
      "13\n"
     ]
    }
   ],
   "source": [
    "#La celda anterior falla. Vemos cual puede ser el problema\n",
    "for i,img in enumerate(images):\n",
    "    source = img.get('src')                                         #Tomamos la url de la imagen\n",
    "    try:\n",
    "        urllib.request.urlretrieve(source, \"image\"+str(i)+\".jpg\")   #Si podemos la guardamos como \"image1.jpg\",\"image2.jpg\",etc.\n",
    "    except:\n",
    "        print(i)            #Si no marcamos cual imagen no se puede"
   ]
  },
  {
   "cell_type": "code",
   "execution_count": 18,
   "metadata": {},
   "outputs": [
    {
     "name": "stdout",
     "output_type": "stream",
     "text": [
      "0 :  /es/themes/exide/images/logo-exide.svg\n",
      "1 :  /es/sites/default/files/2022-11/EXIDE-LOGO.png\n",
      "2 :  /es/sites/default/files/2022-11/Tudor-logo.png\n",
      "3 :  https://www.exidegroup.com/es/sites/default/files/country-icons/spain.svg\n",
      "4 :  /es/themes/exide/images/logo-exide.svg\n",
      "5 :  /es/themes/exide/images/logo-exide.svg\n",
      "6 :  https://www.exidegroup.com/es/sites/default/files/country-icons/spain.svg\n",
      "7 :  https://www.exidegroup.com/es/sites/default/files/2022-11/EXIDE-LOGO.png\n",
      "8 :  /es/sites/default/files/sharepoint/1TtTpfJLXpRE390T53JeuSMnL-Edk2fJ5iTbNKQ_8l0-large.png\n",
      "9 :  /es/sites/default/files/sharepoint/tEA7uISY4MCSXV1NcA3IrMcTG-l4fqW-BXAmBDCe6dY-large.png\n",
      "10 :  /es/sites/default/files/sharepoint/5z7U2AkjDNBKE1Uif74Sik6KD8S5lwXwWHMShwU9niA-large.png\n",
      "11 :  /es/sites/default/files/sharepoint/2ukj6VpEwZBWFAE-3_hIW3h1I-tcwwga4_sk-5NFyC8-large.png\n",
      "12 :  /es/sites/default/files/sharepoint/BKuJxWLBB6vd9JigPltQJTssn9v9h-BgSzpS0h0IX-o-large.png\n",
      "13 :  /es/sites/default/files/inline-images/exide_technologies_logo_vertical_blackwhite-305.png\n",
      "14 :  https://www.exidegroup.com/es/sites/default/files/country-icons/spain.svg\n"
     ]
    }
   ],
   "source": [
    "#Solamente se descargan las imágenes 3, 6, 7 y 14. Vemos que tienen de distintas las fuentes.\n",
    "for i,img in enumerate(images):\n",
    "    source = img.get('src')         #Tomamos la url de la imagen\n",
    "    print(i,': ',source)            #Imprimimos la fuente con cada una de las imágenes"
   ]
  },
  {
   "cell_type": "code",
   "execution_count": null,
   "metadata": {},
   "outputs": [],
   "source": [
    "#Vemos que las que fallan tienen los paths relativos nomás. Le agregamos lo que corresponde así se guardan las 15 imágenes\n",
    "for i,img in enumerate(images):\n",
    "    source = img.get('src')                                     #Tomamos la url de la imagen\n",
    "    if source[0] != 'h':\n",
    "        source = 'https://www.exidegroup.com' + source          #Agregamos lo que falta del path en caso de que sea necesario\n",
    "    urllib.request.urlretrieve(source, \"image\"+str(i)+\".jpg\")   #La guardamos como \"image1.jpg\",\"image2.jpg\",etc."
   ]
  },
  {
   "attachments": {},
   "cell_type": "markdown",
   "metadata": {},
   "source": [
    "La imagen que necesitamos es la 8 nomas. La probamos con un par de baterías más para asegurarnos que ese siempre sea el caso."
   ]
  },
  {
   "cell_type": "code",
   "execution_count": 20,
   "metadata": {},
   "outputs": [],
   "source": [
    "#Copiamos las celdas de arriba\n",
    "url_bat = 'https://www.exidegroup.com/es/es/battery/ED851T'\n",
    "response_bat = requests.get(url_bat)\n",
    "soup_bat = BeautifulSoup(response_bat.content,'html.parser')\n",
    "images = soup_bat.find_all('img')\n",
    "for i,img in enumerate(images):\n",
    "    source = img.get('src')                                     #Tomamos la url de la imagen\n",
    "    if source[0] != 'h':\n",
    "        source = 'https://www.exidegroup.com' + source          #Agregamos lo que falta del path en caso de que sea necesario\n",
    "    urllib.request.urlretrieve(source, \"image\"+str(i)+\".jpg\")   #La guardamos como \"image1.jpg\",\"image2.jpg\",etc."
   ]
  },
  {
   "cell_type": "code",
   "execution_count": 22,
   "metadata": {},
   "outputs": [],
   "source": [
    "#Copiamos las celdas de arriba\n",
    "url_bat = 'https://www.exidegroup.com/es/es/battery/ELT9B'\n",
    "response_bat = requests.get(url_bat)\n",
    "soup_bat = BeautifulSoup(response_bat.content,'html.parser')\n",
    "images = soup_bat.find_all('img')\n",
    "for i,img in enumerate(images):\n",
    "    source = img.get('src')                                     #Tomamos la url de la imagen\n",
    "    if source[0] != 'h':\n",
    "        source = 'https://www.exidegroup.com' + source          #Agregamos lo que falta del path en caso de que sea necesario\n",
    "    urllib.request.urlretrieve(source, \"image\"+str(i)+\".jpg\")   #La guardamos como \"image1.jpg\",\"image2.jpg\",etc."
   ]
  },
  {
   "attachments": {},
   "cell_type": "markdown",
   "metadata": {},
   "source": [
    "Perfecto. Solo vamos a guardar la imagen 8 entonces de cada batería y la guardamos con el código solicitado."
   ]
  },
  {
   "cell_type": "code",
   "execution_count": 25,
   "metadata": {},
   "outputs": [],
   "source": [
    "for url_end in bateries['Fin_Url'].values:\n",
    "    url_bat = 'https://www.exidegroup.com/es/es/battery/'+url_end           #Definimos la página\n",
    "    response_bat = requests.get(url_bat)                                    #Obtenemos la respuesta\n",
    "    soup_bat = BeautifulSoup(response_bat.content,'html.parser')            #Definimos objeto de BeautifulSoup\n",
    "    images = soup_bat.find_all('img')                                       #Hallamos todas las imágenes\n",
    "    source = images[8].get('src')                                           #Tomamos el path de la imagen que nos interesa\n",
    "    if source[0] != 'h':                                                    #En caso de que sea necesario\n",
    "        source = 'https://www.exidegroup.com' + source                      #Agregamos lo que falta del path\n",
    "    urllib.request.urlretrieve(source, \"imagenes/EXIDE- \"+url_end+\".jpg\")   #Guardamos la imagen con el nombre solicitado"
   ]
  },
  {
   "attachments": {},
   "cell_type": "markdown",
   "metadata": {},
   "source": [
    "Se guardaron todas las imágenes de manera correcta. Ahora vamos a subirlas a Google Drive, dentro de una carpeta pública, usando la API de Google Drive. Para setear inicialmente los permisos se crea el archivo quickstart.py según lo que se explica en la documentación y se ejecuta. Automáticamente se genera el archivo \"token.json\" para gestión de permisos."
   ]
  },
  {
   "cell_type": "code",
   "execution_count": 12,
   "metadata": {},
   "outputs": [],
   "source": [
    "#Importamos librerías de Google Drive API\n",
    "from google.oauth2.credentials import Credentials\n",
    "from googleapiclient.discovery import build\n",
    "from googleapiclient.http import MediaFileUpload"
   ]
  },
  {
   "cell_type": "code",
   "execution_count": 13,
   "metadata": {},
   "outputs": [],
   "source": [
    "#Definimos los permisos\n",
    "SCOPES = ['https://www.googleapis.com/auth/drive']\n",
    "creds = Credentials.from_authorized_user_file('token.json', SCOPES)"
   ]
  },
  {
   "cell_type": "code",
   "execution_count": 14,
   "metadata": {},
   "outputs": [],
   "source": [
    "#Creamos el servicio\n",
    "service = build('drive', 'v3', credentials=creds)"
   ]
  },
  {
   "cell_type": "code",
   "execution_count": 15,
   "metadata": {},
   "outputs": [],
   "source": [
    "#Importamos los datos de archivos y carpetas que están en la unidad\n",
    "results = service.files().list(pageSize=10, fields=\"nextPageToken, files(id, name)\").execute()\n",
    "items = results.get('files', [])"
   ]
  },
  {
   "cell_type": "code",
   "execution_count": 16,
   "metadata": {},
   "outputs": [
    {
     "name": "stdout",
     "output_type": "stream",
     "text": [
      "1jqYaTlzWvpx8RpKnTttBJTHh6xMO9r0x\n"
     ]
    }
   ],
   "source": [
    "#Obtenemos el Id de la carpeta pública creada en Drive. Comprobamos que esté bien.\n",
    "for item in items:\n",
    "    if item['name'] == 'Carpeta publica':\n",
    "        folder_id = item['id']\n",
    "        print(folder_id)"
   ]
  },
  {
   "cell_type": "code",
   "execution_count": 21,
   "metadata": {},
   "outputs": [],
   "source": [
    "#Subimos los archivos\n",
    "for bat in bateries['Fin_Url'].values:\n",
    "    upload = MediaFileUpload('imagenes/EXIDE- '+bat+'.jpg', resumable=False)\n",
    "    file = service.files().create(body={'name': 'EXIDE- '+bat+'.jpg','parents': [folder_id]},\n",
    "                                  media_body=upload,fields='id').execute()"
   ]
  },
  {
   "attachments": {},
   "cell_type": "markdown",
   "metadata": {},
   "source": [
    "Finalmente armamos el excel solicitado con la url y el nombre del archivo."
   ]
  },
  {
   "cell_type": "code",
   "execution_count": 27,
   "metadata": {},
   "outputs": [],
   "source": [
    "#Importamos los datos de archivos y carpetas que están en la carpeta\n",
    "from googleapiclient.errors import HttpError\n",
    "try:\n",
    "    results_images = service.files().list(q=f\"'{folder_id}' in parents and trashed = false\",\n",
    "                                fields=\"nextPageToken, files(id, name)\",pageSize=300).execute()\n",
    "    images_data = results_images.get('files', [])\n",
    "except HttpError as error:\n",
    "        # TODO(developer) - Handle errors from drive API.\n",
    "        print(f'An error occurred: {error}')"
   ]
  },
  {
   "cell_type": "code",
   "execution_count": 28,
   "metadata": {},
   "outputs": [
    {
     "data": {
      "text/html": [
       "<div>\n",
       "<style scoped>\n",
       "    .dataframe tbody tr th:only-of-type {\n",
       "        vertical-align: middle;\n",
       "    }\n",
       "\n",
       "    .dataframe tbody tr th {\n",
       "        vertical-align: top;\n",
       "    }\n",
       "\n",
       "    .dataframe thead th {\n",
       "        text-align: right;\n",
       "    }\n",
       "</style>\n",
       "<table border=\"1\" class=\"dataframe\">\n",
       "  <thead>\n",
       "    <tr style=\"text-align: right;\">\n",
       "      <th></th>\n",
       "      <th>id</th>\n",
       "      <th>name</th>\n",
       "    </tr>\n",
       "  </thead>\n",
       "  <tbody>\n",
       "    <tr>\n",
       "      <th>0</th>\n",
       "      <td>1w_cuGb98OEUnd4KvAEUnCvG7XRDptc6Z</td>\n",
       "      <td>EXIDE- 4901.jpg</td>\n",
       "    </tr>\n",
       "    <tr>\n",
       "      <th>1</th>\n",
       "      <td>1iZDzMKW2vlSe4vjr3HpET-kQRXe1k7OQ</td>\n",
       "      <td>EXIDE- 4900.jpg</td>\n",
       "    </tr>\n",
       "    <tr>\n",
       "      <th>2</th>\n",
       "      <td>1yJJz9SG_HSCk7b0EomZJyb9CASKj2TP1</td>\n",
       "      <td>EXIDE- EB30L-B.jpg</td>\n",
       "    </tr>\n",
       "    <tr>\n",
       "      <th>3</th>\n",
       "      <td>1fR-bKJHUOqY9GcC7xzZkASJbWI8_NIaG</td>\n",
       "      <td>EXIDE- E60-N30L-B.jpg</td>\n",
       "    </tr>\n",
       "    <tr>\n",
       "      <th>4</th>\n",
       "      <td>1LxvHd_64IZiSuiygQI0OsH7hgKZBFPvg</td>\n",
       "      <td>EXIDE- E60-N30L-A.jpg</td>\n",
       "    </tr>\n",
       "    <tr>\n",
       "      <th>...</th>\n",
       "      <td>...</td>\n",
       "      <td>...</td>\n",
       "    </tr>\n",
       "    <tr>\n",
       "      <th>289</th>\n",
       "      <td>1vUbZdokUuuQFoOr5PVUZkJanRdRRUd-g</td>\n",
       "      <td>EXIDE- EK720.jpg</td>\n",
       "    </tr>\n",
       "    <tr>\n",
       "      <th>290</th>\n",
       "      <td>1_1hQTpaqjaQxeamvuetDFc4lG-Nb-xTf</td>\n",
       "      <td>EXIDE- EK700.jpg</td>\n",
       "    </tr>\n",
       "    <tr>\n",
       "      <th>291</th>\n",
       "      <td>1VKtgSDZ7jzuQllwZbRlwzcph6NnUZrhI</td>\n",
       "      <td>EXIDE- EK620.jpg</td>\n",
       "    </tr>\n",
       "    <tr>\n",
       "      <th>292</th>\n",
       "      <td>11PGBw0L9FcE3eIFOZwytUgQTYlfBfsUw</td>\n",
       "      <td>EXIDE- EK600.jpg</td>\n",
       "    </tr>\n",
       "    <tr>\n",
       "      <th>293</th>\n",
       "      <td>1nbL2x0Q4pDjvvIMS_ECcCHZcWa1Boe7t</td>\n",
       "      <td>EXIDE- EK508.jpg</td>\n",
       "    </tr>\n",
       "  </tbody>\n",
       "</table>\n",
       "<p>294 rows × 2 columns</p>\n",
       "</div>"
      ],
      "text/plain": [
       "                                    id                   name\n",
       "0    1w_cuGb98OEUnd4KvAEUnCvG7XRDptc6Z        EXIDE- 4901.jpg\n",
       "1    1iZDzMKW2vlSe4vjr3HpET-kQRXe1k7OQ        EXIDE- 4900.jpg\n",
       "2    1yJJz9SG_HSCk7b0EomZJyb9CASKj2TP1     EXIDE- EB30L-B.jpg\n",
       "3    1fR-bKJHUOqY9GcC7xzZkASJbWI8_NIaG  EXIDE- E60-N30L-B.jpg\n",
       "4    1LxvHd_64IZiSuiygQI0OsH7hgKZBFPvg  EXIDE- E60-N30L-A.jpg\n",
       "..                                 ...                    ...\n",
       "289  1vUbZdokUuuQFoOr5PVUZkJanRdRRUd-g       EXIDE- EK720.jpg\n",
       "290  1_1hQTpaqjaQxeamvuetDFc4lG-Nb-xTf       EXIDE- EK700.jpg\n",
       "291  1VKtgSDZ7jzuQllwZbRlwzcph6NnUZrhI       EXIDE- EK620.jpg\n",
       "292  11PGBw0L9FcE3eIFOZwytUgQTYlfBfsUw       EXIDE- EK600.jpg\n",
       "293  1nbL2x0Q4pDjvvIMS_ECcCHZcWa1Boe7t       EXIDE- EK508.jpg\n",
       "\n",
       "[294 rows x 2 columns]"
      ]
     },
     "execution_count": 28,
     "metadata": {},
     "output_type": "execute_result"
    }
   ],
   "source": [
    "#Armamos dataframe\n",
    "images_data_df = pd.DataFrame(images_data)\n",
    "images_data_df"
   ]
  },
  {
   "cell_type": "code",
   "execution_count": 29,
   "metadata": {},
   "outputs": [
    {
     "data": {
      "text/html": [
       "<div>\n",
       "<style scoped>\n",
       "    .dataframe tbody tr th:only-of-type {\n",
       "        vertical-align: middle;\n",
       "    }\n",
       "\n",
       "    .dataframe tbody tr th {\n",
       "        vertical-align: top;\n",
       "    }\n",
       "\n",
       "    .dataframe thead th {\n",
       "        text-align: right;\n",
       "    }\n",
       "</style>\n",
       "<table border=\"1\" class=\"dataframe\">\n",
       "  <thead>\n",
       "    <tr style=\"text-align: right;\">\n",
       "      <th></th>\n",
       "      <th>id</th>\n",
       "      <th>name</th>\n",
       "      <th>url</th>\n",
       "    </tr>\n",
       "  </thead>\n",
       "  <tbody>\n",
       "    <tr>\n",
       "      <th>0</th>\n",
       "      <td>1w_cuGb98OEUnd4KvAEUnCvG7XRDptc6Z</td>\n",
       "      <td>EXIDE- 4901.jpg</td>\n",
       "      <td>https://drive.google.com/uc?id=1w_cuGb98OEUnd4...</td>\n",
       "    </tr>\n",
       "    <tr>\n",
       "      <th>1</th>\n",
       "      <td>1iZDzMKW2vlSe4vjr3HpET-kQRXe1k7OQ</td>\n",
       "      <td>EXIDE- 4900.jpg</td>\n",
       "      <td>https://drive.google.com/uc?id=1iZDzMKW2vlSe4v...</td>\n",
       "    </tr>\n",
       "    <tr>\n",
       "      <th>2</th>\n",
       "      <td>1yJJz9SG_HSCk7b0EomZJyb9CASKj2TP1</td>\n",
       "      <td>EXIDE- EB30L-B.jpg</td>\n",
       "      <td>https://drive.google.com/uc?id=1yJJz9SG_HSCk7b...</td>\n",
       "    </tr>\n",
       "    <tr>\n",
       "      <th>3</th>\n",
       "      <td>1fR-bKJHUOqY9GcC7xzZkASJbWI8_NIaG</td>\n",
       "      <td>EXIDE- E60-N30L-B.jpg</td>\n",
       "      <td>https://drive.google.com/uc?id=1fR-bKJHUOqY9Gc...</td>\n",
       "    </tr>\n",
       "    <tr>\n",
       "      <th>4</th>\n",
       "      <td>1LxvHd_64IZiSuiygQI0OsH7hgKZBFPvg</td>\n",
       "      <td>EXIDE- E60-N30L-A.jpg</td>\n",
       "      <td>https://drive.google.com/uc?id=1LxvHd_64IZiSui...</td>\n",
       "    </tr>\n",
       "    <tr>\n",
       "      <th>...</th>\n",
       "      <td>...</td>\n",
       "      <td>...</td>\n",
       "      <td>...</td>\n",
       "    </tr>\n",
       "    <tr>\n",
       "      <th>289</th>\n",
       "      <td>1vUbZdokUuuQFoOr5PVUZkJanRdRRUd-g</td>\n",
       "      <td>EXIDE- EK720.jpg</td>\n",
       "      <td>https://drive.google.com/uc?id=1vUbZdokUuuQFoO...</td>\n",
       "    </tr>\n",
       "    <tr>\n",
       "      <th>290</th>\n",
       "      <td>1_1hQTpaqjaQxeamvuetDFc4lG-Nb-xTf</td>\n",
       "      <td>EXIDE- EK700.jpg</td>\n",
       "      <td>https://drive.google.com/uc?id=1_1hQTpaqjaQxea...</td>\n",
       "    </tr>\n",
       "    <tr>\n",
       "      <th>291</th>\n",
       "      <td>1VKtgSDZ7jzuQllwZbRlwzcph6NnUZrhI</td>\n",
       "      <td>EXIDE- EK620.jpg</td>\n",
       "      <td>https://drive.google.com/uc?id=1VKtgSDZ7jzuQll...</td>\n",
       "    </tr>\n",
       "    <tr>\n",
       "      <th>292</th>\n",
       "      <td>11PGBw0L9FcE3eIFOZwytUgQTYlfBfsUw</td>\n",
       "      <td>EXIDE- EK600.jpg</td>\n",
       "      <td>https://drive.google.com/uc?id=11PGBw0L9FcE3eI...</td>\n",
       "    </tr>\n",
       "    <tr>\n",
       "      <th>293</th>\n",
       "      <td>1nbL2x0Q4pDjvvIMS_ECcCHZcWa1Boe7t</td>\n",
       "      <td>EXIDE- EK508.jpg</td>\n",
       "      <td>https://drive.google.com/uc?id=1nbL2x0Q4pDjvvI...</td>\n",
       "    </tr>\n",
       "  </tbody>\n",
       "</table>\n",
       "<p>294 rows × 3 columns</p>\n",
       "</div>"
      ],
      "text/plain": [
       "                                    id                   name   \n",
       "0    1w_cuGb98OEUnd4KvAEUnCvG7XRDptc6Z        EXIDE- 4901.jpg  \\\n",
       "1    1iZDzMKW2vlSe4vjr3HpET-kQRXe1k7OQ        EXIDE- 4900.jpg   \n",
       "2    1yJJz9SG_HSCk7b0EomZJyb9CASKj2TP1     EXIDE- EB30L-B.jpg   \n",
       "3    1fR-bKJHUOqY9GcC7xzZkASJbWI8_NIaG  EXIDE- E60-N30L-B.jpg   \n",
       "4    1LxvHd_64IZiSuiygQI0OsH7hgKZBFPvg  EXIDE- E60-N30L-A.jpg   \n",
       "..                                 ...                    ...   \n",
       "289  1vUbZdokUuuQFoOr5PVUZkJanRdRRUd-g       EXIDE- EK720.jpg   \n",
       "290  1_1hQTpaqjaQxeamvuetDFc4lG-Nb-xTf       EXIDE- EK700.jpg   \n",
       "291  1VKtgSDZ7jzuQllwZbRlwzcph6NnUZrhI       EXIDE- EK620.jpg   \n",
       "292  11PGBw0L9FcE3eIFOZwytUgQTYlfBfsUw       EXIDE- EK600.jpg   \n",
       "293  1nbL2x0Q4pDjvvIMS_ECcCHZcWa1Boe7t       EXIDE- EK508.jpg   \n",
       "\n",
       "                                                   url  \n",
       "0    https://drive.google.com/uc?id=1w_cuGb98OEUnd4...  \n",
       "1    https://drive.google.com/uc?id=1iZDzMKW2vlSe4v...  \n",
       "2    https://drive.google.com/uc?id=1yJJz9SG_HSCk7b...  \n",
       "3    https://drive.google.com/uc?id=1fR-bKJHUOqY9Gc...  \n",
       "4    https://drive.google.com/uc?id=1LxvHd_64IZiSui...  \n",
       "..                                                 ...  \n",
       "289  https://drive.google.com/uc?id=1vUbZdokUuuQFoO...  \n",
       "290  https://drive.google.com/uc?id=1_1hQTpaqjaQxea...  \n",
       "291  https://drive.google.com/uc?id=1VKtgSDZ7jzuQll...  \n",
       "292  https://drive.google.com/uc?id=11PGBw0L9FcE3eI...  \n",
       "293  https://drive.google.com/uc?id=1nbL2x0Q4pDjvvI...  \n",
       "\n",
       "[294 rows x 3 columns]"
      ]
     },
     "execution_count": 29,
     "metadata": {},
     "output_type": "execute_result"
    }
   ],
   "source": [
    "#Agregamos columna con la url\n",
    "images_data_df['url']='https://drive.google.com/uc?id='+images_data_df['id']\n",
    "images_data_df"
   ]
  },
  {
   "cell_type": "code",
   "execution_count": 32,
   "metadata": {},
   "outputs": [],
   "source": [
    "#Creamos archivo excel solicitado\n",
    "images_data_df[['name','url']].to_excel('baterias.xlsx',index=False)"
   ]
  }
 ],
 "metadata": {
  "kernelspec": {
   "display_name": "aut_env",
   "language": "python",
   "name": "python3"
  },
  "language_info": {
   "codemirror_mode": {
    "name": "ipython",
    "version": 3
   },
   "file_extension": ".py",
   "mimetype": "text/x-python",
   "name": "python",
   "nbconvert_exporter": "python",
   "pygments_lexer": "ipython3",
   "version": "3.10.7"
  },
  "orig_nbformat": 4
 },
 "nbformat": 4,
 "nbformat_minor": 2
}
